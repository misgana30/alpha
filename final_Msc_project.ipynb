{
  "nbformat": 4,
  "nbformat_minor": 0,
  "metadata": {
    "colab": {
      "name": "Copy of Copy of Welcome To Colaboratory",
      "provenance": [],
      "collapsed_sections": [],
      "toc_visible": true,
      "include_colab_link": true
    },
    "kernelspec": {
      "display_name": "Python 3",
      "name": "python3"
    }
  },
  "cells": [
    {
      "cell_type": "markdown",
      "metadata": {
        "id": "view-in-github",
        "colab_type": "text"
      },
      "source": [
        "<a href=\"https://colab.research.google.com/github/misgana30/alpha/blob/master/final_Msc_project.ipynb\" target=\"_parent\"><img src=\"https://colab.research.google.com/assets/colab-badge.svg\" alt=\"Open In Colab\"/></a>"
      ]
    },
    {
      "cell_type": "markdown",
      "metadata": {
        "id": "5fCEDCU_qrC0"
      },
      "source": [
        "<p><img alt=\"Colaboratory logo\" height=\"45px\" src=\"/img/colab_favicon.ico\" align=\"left\" hspace=\"10px\" vspace=\"0px\"></p>\n",
        "\n",
        "<h1>What is Colaboratory?</h1>\n",
        "\n",
        "Colaboratory, or \"Colab\" for short, allows you to write and execute Python in your browser, with \n",
        "- Zero configuration required\n",
        "- Free access to GPUs\n",
        "- Easy sharing\n",
        "\n",
        "Whether you're a **student**, a **data scientist** or an **AI researcher**, Colab can make your work easier. Watch [Introduction to Colab](https://www.youtube.com/watch?v=inN8seMm7UI) to learn more, or just get started below!"
      ]
    },
    {
      "cell_type": "markdown",
      "metadata": {
        "id": "GJBs_flRovLc"
      },
      "source": [
        "## **Getting started**\n",
        "\n",
        "The document you are reading is not a static web page, but an interactive environment called a **Colab notebook** that lets you write and execute code.\n",
        "\n",
        "For example, here is a **code cell** with a short Python script that computes a value, stores it in a variable, and prints the result:"
      ]
    },
    {
      "cell_type": "code",
      "metadata": {
        "colab": {
          "base_uri": "https://localhost:8080/",
          "height": 34
        },
        "id": "gJr_9dXGpJ05",
        "outputId": "9f556d03-ec67-4950-a485-cfdba9ddd14d"
      },
      "source": [
        "seconds_in_a_day = 24 * 60 * 60\n",
        "seconds_in_a_day"
      ],
      "execution_count": null,
      "outputs": [
        {
          "output_type": "execute_result",
          "data": {
            "text/plain": [
              "86400"
            ]
          },
          "metadata": {
            "tags": []
          },
          "execution_count": 0
        }
      ]
    },
    {
      "cell_type": "markdown",
      "metadata": {
        "id": "2fhs6GZ4qFMx"
      },
      "source": [
        "To execute the code in the above cell, select it with a click and then either press the play button to the left of the code, or use the keyboard shortcut \"Command/Ctrl+Enter\". To edit the code, just click the cell and start editing.\n",
        "\n",
        "Variables that you define in one cell can later be used in other cells:"
      ]
    },
    {
      "cell_type": "code",
      "metadata": {
        "colab": {
          "base_uri": "https://localhost:8080/",
          "height": 34
        },
        "id": "-gE-Ez1qtyIA",
        "outputId": "94cb2224-0edf-457b-90b5-0ac3488d8a97"
      },
      "source": [
        "seconds_in_a_week = 7 * seconds_in_a_day\n",
        "seconds_in_a_week"
      ],
      "execution_count": null,
      "outputs": [
        {
          "output_type": "execute_result",
          "data": {
            "text/plain": [
              "604800"
            ]
          },
          "metadata": {
            "tags": []
          },
          "execution_count": 0
        }
      ]
    },
    {
      "cell_type": "markdown",
      "metadata": {
        "id": "lSrWNr3MuFUS"
      },
      "source": [
        "Colab notebooks allow you to combine **executable code** and **rich text** in a single document, along with **images**, **HTML**, **LaTeX** and more. When you create your own Colab notebooks, they are stored in your Google Drive account. You can easily share your Colab notebooks with co-workers or friends, allowing them to comment on your notebooks or even edit them. To learn more, see [Overview of Colab](/notebooks/basic_features_overview.ipynb). To create a new Colab notebook you can use the File menu above, or use the following link: [create a new Colab notebook](http://colab.research.google.com#create=true).\n",
        "\n",
        "Colab notebooks are Jupyter notebooks that are hosted by Colab. To learn more about the Jupyter project, see [jupyter.org](https://www.jupyter.org)."
      ]
    },
    {
      "cell_type": "markdown",
      "metadata": {
        "id": "UdRyKR44dcNI"
      },
      "source": [
        "## Data science\n",
        "\n",
        "With Colab you can harness the full power of popular Python libraries to analyze and visualize data. The code cell below uses **numpy** to generate some random data, and uses **matplotlib** to visualize it. To edit the code, just click the cell and start editing."
      ]
    },
    {
      "cell_type": "code",
      "metadata": {
        "colab": {
          "base_uri": "https://localhost:8080/",
          "height": 281
        },
        "id": "C4HZx7Gndbrh",
        "outputId": "46abc637-6abd-41b2-9bba-80a7ae992e06"
      },
      "source": [
        "import numpy as np\n",
        "from matplotlib import pyplot as plt\n",
        "\n",
        "ys = 200 + np.random.randn(100)\n",
        "x = [x for x in range(len(ys))]\n",
        "\n",
        "plt.plot(x, ys, '-')\n",
        "plt.fill_between(x, ys, 195, where=(ys > 195), facecolor='g', alpha=0.6)\n",
        "\n",
        "plt.title(\"Sample Visualization\")\n",
        "plt.show()"
      ],
      "execution_count": null,
      "outputs": [
        {
          "output_type": "display_data",
          "data": {
            "image/png": "[encoded data removed]",
            "text/plain": [
              "<Figure size 432x288 with 1 Axes>"
            ]
          },
          "metadata": {
            "tags": []
          }
        }
      ]
    },
    {
      "cell_type": "markdown",
      "metadata": {
        "id": "4_kCnsPUqS6o"
      },
      "source": [
        "You can import your own data into Colab notebooks from your Google Drive account, including from spreadsheets, as well as from Github and many other sources. To learn more about importing data, and how Colab can be used for data science, see the links below under [Working with Data](#working-with-data)."
      ]
    },
    {
      "cell_type": "markdown",
      "metadata": {
        "id": "OwuxHmxllTwN"
      },
      "source": [
        "## Machine learning\n",
        "\n",
        "With Colab you can import an image dataset, train an image classifier on it, and evaluate the model, all in just [a few lines of code](https://colab.research.google.com/github/tensorflow/docs/blob/master/site/en/tutorials/quickstart/beginner.ipynb). Colab notebooks execute code on Google's cloud servers, meaning you can leverage the power of Google hardware, including [GPUs and TPUs](#using-accelerated-hardware), regardless of the power of your machine. All you need is a browser."
      ]
    },
    {
      "cell_type": "markdown",
      "metadata": {
        "id": "ufxBm1yRnruN"
      },
      "source": [
        "Colab is used extensively in the machine learning community with applications including:\n",
        "- Getting started with TensorFlow\n",
        "- Developing and training neural networks\n",
        "- Experimenting with TPUs\n",
        "- Disseminating AI research\n",
        "- Creating tutorials\n",
        "\n",
        "To see sample Colab notebooks that demonstrate machine learning applications, see the [machine learning examples](#machine-learning-examples) below."
      ]
    },
    {
      "cell_type": "markdown",
      "metadata": {
        "id": "-Rh3-Vt9Nev9"
      },
      "source": [
        "## More Resources\n",
        "\n",
        "### Working with Notebooks in Colab\n",
        "- [Overview of Colaboratory](/notebooks/basic_features_overview.ipynb)\n",
        "- [Guide to Markdown](/notebooks/markdown_guide.ipynb)\n",
        "- [Importing libraries and installing dependencies](/notebooks/snippets/importing_libraries.ipynb)\n",
        "- [Saving and loading notebooks in GitHub](https://colab.research.google.com/github/googlecolab/colabtools/blob/master/notebooks/colab-github-demo.ipynb)\n",
        "- [Interactive forms](/notebooks/forms.ipynb)\n",
        "- [Interactive widgets](/notebooks/widgets.ipynb)\n",
        "- <img src=\"/img/new.png\" height=\"20px\" align=\"left\" hspace=\"4px\" alt=\"New\"></img>\n",
        " [TensorFlow 2 in Colab](/notebooks/tensorflow_version.ipynb)\n",
        "\n",
        "<a name=\"working-with-data\"></a>\n",
        "### Working with Data\n",
        "- [Loading data: Drive, Sheets, and Google Cloud Storage](/notebooks/io.ipynb) \n",
        "- [Charts: visualizing data](/notebooks/charts.ipynb)\n",
        "- [Getting started with BigQuery](/notebooks/bigquery.ipynb)\n",
        "\n",
        "### Machine Learning Crash Course\n",
        "These are a few of the notebooks from Google's online Machine Learning course. See the [full course website](https://developers.google.com/machine-learning/crash-course/) for more.\n",
        "- [Intro to Pandas](/notebooks/mlcc/intro_to_pandas.ipynb)\n",
        "- [Tensorflow concepts](/notebooks/mlcc/tensorflow_programming_concepts.ipynb)\n",
        "- [First steps with TensorFlow](/notebooks/mlcc/first_steps_with_tensor_flow.ipynb)\n",
        "- [Intro to neural nets](/notebooks/mlcc/intro_to_neural_nets.ipynb)\n",
        "- [Intro to sparse data and embeddings](/notebooks/mlcc/intro_to_sparse_data_and_embeddings.ipynb)\n",
        "\n",
        "<a name=\"using-accelerated-hardware\"></a>\n",
        "### Using Accelerated Hardware\n",
        "- [TensorFlow with GPUs](/notebooks/gpu.ipynb)\n",
        "- [TensorFlow with TPUs](/notebooks/tpu.ipynb)"
      ]
    },
    {
      "cell_type": "markdown",
      "metadata": {
        "id": "P-H6Lw1vyNNd"
      },
      "source": [
        "<a name=\"machine-learning-examples\"></a>\n",
        "\n",
        "## Machine Learning Examples\n",
        "\n",
        "To see end-to-end examples of the interactive machine learning analyses that Colaboratory makes possible, check out these  tutorials using models from [TensorFlow Hub](https://tfhub.dev).\n",
        "\n",
        "A few featured examples:\n",
        "\n",
        "- [Retraining an Image Classifier](https://tensorflow.org/hub/tutorials/tf2_image_retraining): Build a Keras model on top of a pre-trained image classifier to distinguish flowers.\n",
        "- [Text Classification](https://tensorflow.org/hub/tutorials/tf2_text_classification): Classify IMDB movie reviews as either *positive* or *negative*.\n",
        "- [Style Transfer](https://tensorflow.org/hub/tutorials/tf2_arbitrary_image_stylization): Use deep learning to transfer style between images.\n",
        "- [Multilingual Universal Sentence Encoder Q&A](https://tensorflow.org/hub/tutorials/retrieval_with_tf_hub_universal_encoder_qa): Use a machine learning model to answer questions from the SQuAD dataset.\n",
        "- [Video Interpolation](https://tensorflow.org/hub/tutorials/tweening_conv3d): Predict what happened in a video between the first and the last frame.\n"
      ]
    },
    {
      "cell_type": "code",
      "metadata": {
        "id": "HZDgfn3aeMTc",
        "colab": {
          "base_uri": "https://localhost:8080/"
        },
        "outputId": "30e11c6b-a602-4890-af87-6bc33fa9b9e9"
      },
      "source": [
        "!pip install DeepPurpose"
      ],
      "execution_count": 1,
      "outputs": [
        {
          "output_type": "stream",
          "text": [
            "Collecting DeepPurpose\n",
            "\u001b[?25l  Downloading https://files.pythonhosted.org/packages/c6/c9/7396a4fbaa07756643092d01950801ffdf9f09dd3fc0cd2c4362e9a0f722/DeepPurpose-0.0.9.tar.gz (152kB)\n",
            "\r\u001b[K     |██▏                             | 10kB 13.5MB/s eta 0:00:01\r\u001b[K     |████▎                           | 20kB 11.1MB/s eta 0:00:01\r\u001b[K     |██████▍                         | 30kB 7.5MB/s eta 0:00:01\r\u001b[K     |████████▋                       | 40kB 6.8MB/s eta 0:00:01\r\u001b[K     |██████████▊                     | 51kB 4.5MB/s eta 0:00:01\r\u001b[K     |████████████▉                   | 61kB 5.0MB/s eta 0:00:01\r\u001b[K     |███████████████                 | 71kB 5.0MB/s eta 0:00:01\r\u001b[K     |█████████████████▏              | 81kB 5.2MB/s eta 0:00:01\r\u001b[K     |███████████████████▎            | 92kB 5.6MB/s eta 0:00:01\r\u001b[K     |█████████████████████▍          | 102kB 5.5MB/s eta 0:00:01\r\u001b[K     |███████████████████████▋        | 112kB 5.5MB/s eta 0:00:01\r\u001b[K     |█████████████████████████▊      | 122kB 5.5MB/s eta 0:00:01\r\u001b[K     |███████████████████████████▉    | 133kB 5.5MB/s eta 0:00:01\r\u001b[K     |██████████████████████████████  | 143kB 5.5MB/s eta 0:00:01\r\u001b[K     |████████████████████████████████| 153kB 5.5MB/s \n",
            "\u001b[?25hRequirement already satisfied: numpy in /usr/local/lib/python3.7/dist-packages (from DeepPurpose) (1.19.5)\n",
            "Requirement already satisfied: pandas in /usr/local/lib/python3.7/dist-packages (from DeepPurpose) (1.1.5)\n",
            "Requirement already satisfied: tqdm in /usr/local/lib/python3.7/dist-packages (from DeepPurpose) (4.41.1)\n",
            "Requirement already satisfied: scikit-learn in /usr/local/lib/python3.7/dist-packages (from DeepPurpose) (0.22.2.post1)\n",
            "Collecting wget\n",
            "  Downloading https://files.pythonhosted.org/packages/47/6a/62e288da7bcda82b935ff0c6cfe542970f04e29c756b0e147251b2fb251f/wget-3.2.zip\n",
            "Requirement already satisfied: torch in /usr/local/lib/python3.7/dist-packages (from DeepPurpose) (1.8.1+cu101)\n",
            "Requirement already satisfied: matplotlib in /usr/local/lib/python3.7/dist-packages (from DeepPurpose) (3.2.2)\n",
            "Requirement already satisfied: requests in /usr/local/lib/python3.7/dist-packages (from DeepPurpose) (2.23.0)\n",
            "Collecting pandas-flavor\n",
            "  Downloading https://files.pythonhosted.org/packages/9a/57/7fbcff4c0961ed190ac5fcb0bd8194152ee1ee6487edf64fdbae16e2bc4b/pandas_flavor-0.2.0-py2.py3-none-any.whl\n",
            "Collecting subword-nmt\n",
            "  Downloading https://files.pythonhosted.org/packages/74/60/6600a7bc09e7ab38bc53a48a20d8cae49b837f93f5842a41fe513a694912/subword_nmt-0.3.7-py2.py3-none-any.whl\n",
            "Collecting lifelines\n",
            "\u001b[?25l  Downloading https://files.pythonhosted.org/packages/51/af/6b2815701c12d6dc8be11c9234fe87bb55b51788d9cc41b39c92952d577a/lifelines-0.25.11-py3-none-any.whl (348kB)\n",
            "\u001b[K     |████████████████████████████████| 348kB 6.8MB/s \n",
            "\u001b[?25hRequirement already satisfied: prettytable in /usr/local/lib/python3.7/dist-packages (from DeepPurpose) (2.1.0)\n",
            "Requirement already satisfied: tensorboard in /usr/local/lib/python3.7/dist-packages (from DeepPurpose) (2.4.1)\n",
            "Collecting ax-platform\n",
            "\u001b[?25l  Downloading https://files.pythonhosted.org/packages/54/8e/41459c62930824383fe12d89968b9bd5e395210fc7fa3bd7af18f0bd40cd/ax_platform-0.1.20-py3-none-any.whl (704kB)\n",
            "\u001b[K     |████████████████████████████████| 706kB 8.0MB/s \n",
            "\u001b[?25hRequirement already satisfied: pytz>=2017.2 in /usr/local/lib/python3.7/dist-packages (from pandas->DeepPurpose) (2018.9)\n",
            "Requirement already satisfied: python-dateutil>=2.7.3 in /usr/local/lib/python3.7/dist-packages (from pandas->DeepPurpose) (2.8.1)\n",
            "Requirement already satisfied: scipy>=0.17.0 in /usr/local/lib/python3.7/dist-packages (from scikit-learn->DeepPurpose) (1.4.1)\n",
            "Requirement already satisfied: joblib>=0.11 in /usr/local/lib/python3.7/dist-packages (from scikit-learn->DeepPurpose) (1.0.1)\n",
            "Requirement already satisfied: typing-extensions in /usr/local/lib/python3.7/dist-packages (from torch->DeepPurpose) (3.7.4.3)\n",
            "Requirement already satisfied: kiwisolver>=1.0.1 in /usr/local/lib/python3.7/dist-packages (from matplotlib->DeepPurpose) (1.3.1)\n",
            "Requirement already satisfied: pyparsing!=2.0.4,!=2.1.2,!=2.1.6,>=2.0.1 in /usr/local/lib/python3.7/dist-packages (from matplotlib->DeepPurpose) (2.4.7)\n",
            "Requirement already satisfied: cycler>=0.10 in /usr/local/lib/python3.7/dist-packages (from matplotlib->DeepPurpose) (0.10.0)\n",
            "Requirement already satisfied: certifi>=2017.4.17 in /usr/local/lib/python3.7/dist-packages (from requests->DeepPurpose) (2020.12.5)\n",
            "Requirement already satisfied: urllib3!=1.25.0,!=1.25.1,<1.26,>=1.21.1 in /usr/local/lib/python3.7/dist-packages (from requests->DeepPurpose) (1.24.3)\n",
            "Requirement already satisfied: idna<3,>=2.5 in /usr/local/lib/python3.7/dist-packages (from requests->DeepPurpose) (2.10)\n",
            "Requirement already satisfied: chardet<4,>=3.0.2 in /usr/local/lib/python3.7/dist-packages (from requests->DeepPurpose) (3.0.4)\n",
            "Requirement already satisfied: xarray in /usr/local/lib/python3.7/dist-packages (from pandas-flavor->DeepPurpose) (0.15.1)\n",
            "Requirement already satisfied: autograd>=1.3 in /usr/local/lib/python3.7/dist-packages (from lifelines->DeepPurpose) (1.3)\n",
            "Collecting formulaic<0.3,>=0.2.2\n",
            "\u001b[?25l  Downloading https://files.pythonhosted.org/packages/02/64/6702b5cadc89ece93af2e01996504f3a895196354a35713e2ef22f089d3e/formulaic-0.2.3-py3-none-any.whl (55kB)\n",
            "\u001b[K     |████████████████████████████████| 61kB 4.7MB/s \n",
            "\u001b[?25hCollecting autograd-gamma>=0.3\n",
            "  Downloading https://files.pythonhosted.org/packages/85/ae/7f2031ea76140444b2453fa139041e5afd4a09fc5300cfefeb1103291f80/autograd-gamma-0.5.0.tar.gz\n",
            "Requirement already satisfied: wcwidth in /usr/local/lib/python3.7/dist-packages (from prettytable->DeepPurpose) (0.2.5)\n",
            "Requirement already satisfied: importlib-metadata; python_version < \"3.8\" in /usr/local/lib/python3.7/dist-packages (from prettytable->DeepPurpose) (3.10.0)\n",
            "Requirement already satisfied: wheel>=0.26; python_version >= \"3\" in /usr/local/lib/python3.7/dist-packages (from tensorboard->DeepPurpose) (0.36.2)\n",
            "Requirement already satisfied: absl-py>=0.4 in /usr/local/lib/python3.7/dist-packages (from tensorboard->DeepPurpose) (0.12.0)\n",
            "Requirement already satisfied: six>=1.10.0 in /usr/local/lib/python3.7/dist-packages (from tensorboard->DeepPurpose) (1.15.0)\n",
            "Requirement already satisfied: werkzeug>=0.11.15 in /usr/local/lib/python3.7/dist-packages (from tensorboard->DeepPurpose) (1.0.1)\n",
            "Requirement already satisfied: google-auth<2,>=1.6.3 in /usr/local/lib/python3.7/dist-packages (from tensorboard->DeepPurpose) (1.28.1)\n",
            "Requirement already satisfied: grpcio>=1.24.3 in /usr/local/lib/python3.7/dist-packages (from tensorboard->DeepPurpose) (1.32.0)\n",
            "Requirement already satisfied: markdown>=2.6.8 in /usr/local/lib/python3.7/dist-packages (from tensorboard->DeepPurpose) (3.3.4)\n",
            "Requirement already satisfied: protobuf>=3.6.0 in /usr/local/lib/python3.7/dist-packages (from tensorboard->DeepPurpose) (3.12.4)\n",
            "Requirement already satisfied: setuptools>=41.0.0 in /usr/local/lib/python3.7/dist-packages (from tensorboard->DeepPurpose) (54.2.0)\n",
            "Requirement already satisfied: google-auth-oauthlib<0.5,>=0.4.1 in /usr/local/lib/python3.7/dist-packages (from tensorboard->DeepPurpose) (0.4.4)\n",
            "Requirement already satisfied: tensorboard-plugin-wit>=1.6.0 in /usr/local/lib/python3.7/dist-packages (from tensorboard->DeepPurpose) (1.8.0)\n",
            "Collecting botorch==0.4.0\n",
            "\u001b[?25l  Downloading https://files.pythonhosted.org/packages/99/41/21e2aac9ca831a2148ee7da44e00185c791d539c284cf0ebda34cd640e75/botorch-0.4.0-py3-none-any.whl (395kB)\n",
            "\u001b[K     |████████████████████████████████| 399kB 11.8MB/s \n",
            "\u001b[?25hRequirement already satisfied: typeguard in /usr/local/lib/python3.7/dist-packages (from ax-platform->DeepPurpose) (2.7.1)\n",
            "Requirement already satisfied: plotly in /usr/local/lib/python3.7/dist-packages (from ax-platform->DeepPurpose) (4.4.1)\n",
            "Requirement already satisfied: jinja2 in /usr/local/lib/python3.7/dist-packages (from ax-platform->DeepPurpose) (2.11.3)\n",
            "Requirement already satisfied: future>=0.15.2 in /usr/local/lib/python3.7/dist-packages (from autograd>=1.3->lifelines->DeepPurpose) (0.16.0)\n",
            "Requirement already satisfied: wrapt in /usr/local/lib/python3.7/dist-packages (from formulaic<0.3,>=0.2.2->lifelines->DeepPurpose) (1.12.1)\n",
            "Requirement already satisfied: astor in /usr/local/lib/python3.7/dist-packages (from formulaic<0.3,>=0.2.2->lifelines->DeepPurpose) (0.8.1)\n",
            "Collecting interface-meta>=1.2\n",
            "  Downloading https://files.pythonhosted.org/packages/71/31/5e474208f5df9012ebecfaa23884b14f93671ea4f4f6d468eb096b73e499/interface_meta-1.2.3-py2.py3-none-any.whl\n",
            "Requirement already satisfied: zipp>=0.5 in /usr/local/lib/python3.7/dist-packages (from importlib-metadata; python_version < \"3.8\"->prettytable->DeepPurpose) (3.4.1)\n",
            "Requirement already satisfied: cachetools<5.0,>=2.0.0 in /usr/local/lib/python3.7/dist-packages (from google-auth<2,>=1.6.3->tensorboard->DeepPurpose) (4.2.1)\n",
            "Requirement already satisfied: rsa<5,>=3.1.4; python_version >= \"3.6\" in /usr/local/lib/python3.7/dist-packages (from google-auth<2,>=1.6.3->tensorboard->DeepPurpose) (4.7.2)\n",
            "Requirement already satisfied: pyasn1-modules>=0.2.1 in /usr/local/lib/python3.7/dist-packages (from google-auth<2,>=1.6.3->tensorboard->DeepPurpose) (0.2.8)\n",
            "Requirement already satisfied: requests-oauthlib>=0.7.0 in /usr/local/lib/python3.7/dist-packages (from google-auth-oauthlib<0.5,>=0.4.1->tensorboard->DeepPurpose) (1.3.0)\n",
            "Collecting gpytorch>=1.4\n",
            "\u001b[?25l  Downloading https://files.pythonhosted.org/packages/38/0d/b2a8a87a2297ee8144d60229323671b3cf9359c1b012e9300b284e4ea3d2/gpytorch-1.4.1-py2.py3-none-any.whl (491kB)\n",
            "\u001b[K     |████████████████████████████████| 491kB 11.5MB/s \n",
            "\u001b[?25hRequirement already satisfied: retrying>=1.3.3 in /usr/local/lib/python3.7/dist-packages (from plotly->ax-platform->DeepPurpose) (1.3.3)\n",
            "Requirement already satisfied: MarkupSafe>=0.23 in /usr/local/lib/python3.7/dist-packages (from jinja2->ax-platform->DeepPurpose) (1.1.1)\n",
            "Requirement already satisfied: pyasn1>=0.1.3 in /usr/local/lib/python3.7/dist-packages (from rsa<5,>=3.1.4; python_version >= \"3.6\"->google-auth<2,>=1.6.3->tensorboard->DeepPurpose) (0.4.8)\n",
            "Requirement already satisfied: oauthlib>=3.0.0 in /usr/local/lib/python3.7/dist-packages (from requests-oauthlib>=0.7.0->google-auth-oauthlib<0.5,>=0.4.1->tensorboard->DeepPurpose) (3.1.0)\n",
            "Building wheels for collected packages: DeepPurpose, wget, autograd-gamma\n",
            "  Building wheel for DeepPurpose (setup.py) ... \u001b[?25l\u001b[?25hdone\n",
            "  Created wheel for DeepPurpose: filename=DeepPurpose-0.0.9-cp37-none-any.whl size=153745 sha256=b89825a5d8293405a62e697490aea055cb780c79531b282c1b89e41b17f5f749\n",
            "  Stored in directory: /root/.cache/pip/wheels/c3/bf/9b/2a59aea1b9d006bb0e5dba7ef412e9ba71e96d33262ec473fa\n",
            "  Building wheel for wget (setup.py) ... \u001b[?25l\u001b[?25hdone\n",
            "  Created wheel for wget: filename=wget-3.2-cp37-none-any.whl size=9681 sha256=1fde565882b7830d0f5f186d640efad65d1e77f4190a81149d5b8f71ac92e3b2\n",
            "  Stored in directory: /root/.cache/pip/wheels/40/15/30/7d8f7cea2902b4db79e3fea550d7d7b85ecb27ef992b618f3f\n",
            "  Building wheel for autograd-gamma (setup.py) ... \u001b[?25l\u001b[?25hdone\n",
            "  Created wheel for autograd-gamma: filename=autograd_gamma-0.5.0-cp37-none-any.whl size=4035 sha256=548c3d86ebe8caf0e2c8ae8fad580754a967cf4c600be51bbc7c888f4a8d70ee\n",
            "  Stored in directory: /root/.cache/pip/wheels/dc/68/dc/91321c55fba449755524481854f5be70d41912b8f886f908bb\n",
            "Successfully built DeepPurpose wget autograd-gamma\n",
            "Installing collected packages: wget, pandas-flavor, subword-nmt, interface-meta, formulaic, autograd-gamma, lifelines, gpytorch, botorch, ax-platform, DeepPurpose\n",
            "Successfully installed DeepPurpose-0.0.9 autograd-gamma-0.5.0 ax-platform-0.1.20 botorch-0.4.0 formulaic-0.2.3 gpytorch-1.4.1 interface-meta-1.2.3 lifelines-0.25.11 pandas-flavor-0.2.0 subword-nmt-0.3.7 wget-3.2\n"
          ],
          "name": "stdout"
        }
      ]
    },
    {
      "cell_type": "code",
      "metadata": {
        "id": "LgEsMsjEeVSu",
        "colab": {
          "base_uri": "https://localhost:8080/"
        },
        "outputId": "1e6ea646-8e52-4aa5-e60e-95117d82ccd0"
      },
      "source": [
        ""
      ],
      "execution_count": null,
      "outputs": [
        {
          "output_type": "stream",
          "text": [
            "\u001b[31mERROR: Could not find a version that satisfies the requirement rdkit (from versions: none)\u001b[0m\n",
            "\u001b[31mERROR: No matching distribution found for rdkit\u001b[0m\n"
          ],
          "name": "stdout"
        }
      ]
    },
    {
      "cell_type": "code",
      "metadata": {
        "id": "H0mjQ2PcrSe5",
        "colab": {
          "base_uri": "https://localhost:8080/"
        },
        "outputId": "c38b63d6-30ff-45db-a60a-10f01e00d1a1"
      },
      "source": [
        "! wget https://repo.anaconda.com/miniconda/Miniconda3-py37_4.8.2-Linux-x86_64.sh\n",
        "! chmod +x Miniconda3-py37_4.8.2-Linux-x86_64.sh\n",
        "! bash ./Miniconda3-py37_4.8.2-Linux-x86_64.sh -b -f -p /usr/local\n",
        "! conda install -c rdkit rdkit -y\n",
        "import sys\n",
        "sys.path.append('/usr/local/lib/python3.7/site-packages/')"
      ],
      "execution_count": 2,
      "outputs": [
        {
          "output_type": "stream",
          "text": [
            "--2021-04-16 16:33:56--  https://repo.anaconda.com/miniconda/Miniconda3-py37_4.8.2-Linux-x86_64.sh\n",
            "Resolving repo.anaconda.com (repo.anaconda.com)... 104.16.130.3, 104.16.131.3, 2606:4700::6810:8203, ...\n",
            "Connecting to repo.anaconda.com (repo.anaconda.com)|104.16.130.3|:443... connected.\n",
            "HTTP request sent, awaiting response... 200 OK\n",
            "Length: 85055499 (81M) [application/x-sh]\n",
            "Saving to: ‘Miniconda3-py37_4.8.2-Linux-x86_64.sh’\n",
            "\n",
            "Miniconda3-py37_4.8 100%[===================>]  81.12M   154MB/s    in 0.5s    \n",
            "\n",
            "2021-04-16 16:33:57 (154 MB/s) - ‘Miniconda3-py37_4.8.2-Linux-x86_64.sh’ saved [85055499/85055499]\n",
            "\n",
            "PREFIX=/usr/local\n",
            "Unpacking payload ...\n",
            "Collecting package metadata (current_repodata.json): - \b\b\\ \b\b| \b\bdone\n",
            "Solving environment: - \b\b\\ \b\bdone\n",
            "\n",
            "## Package Plan ##\n",
            "\n",
            "  environment location: /usr/local\n",
            "\n",
            "  added / updated specs:\n",
            "    - _libgcc_mutex==0.1=main\n",
            "    - asn1crypto==1.3.0=py37_0\n",
            "    - ca-certificates==2020.1.1=0\n",
            "    - certifi==2019.11.28=py37_0\n",
            "    - cffi==1.14.0=py37h2e261b9_0\n",
            "    - chardet==3.0.4=py37_1003\n",
            "    - conda-package-handling==1.6.0=py37h7b6447c_0\n",
            "    - conda==4.8.2=py37_0\n",
            "    - cryptography==2.8=py37h1ba5d50_0\n",
            "    - idna==2.8=py37_0\n",
            "    - ld_impl_linux-64==2.33.1=h53a641e_7\n",
            "    - libedit==3.1.20181209=hc058e9b_0\n",
            "    - libffi==3.2.1=hd88cf55_4\n",
            "    - libgcc-ng==9.1.0=hdf63c60_0\n",
            "    - libstdcxx-ng==9.1.0=hdf63c60_0\n",
            "    - ncurses==6.2=he6710b0_0\n",
            "    - openssl==1.1.1d=h7b6447c_4\n",
            "    - pip==20.0.2=py37_1\n",
            "    - pycosat==0.6.3=py37h7b6447c_0\n",
            "    - pycparser==2.19=py37_0\n",
            "    - pyopenssl==19.1.0=py37_0\n",
            "    - pysocks==1.7.1=py37_0\n",
            "    - python==3.7.6=h0371630_2\n",
            "    - readline==7.0=h7b6447c_5\n",
            "    - requests==2.22.0=py37_1\n",
            "    - ruamel_yaml==0.15.87=py37h7b6447c_0\n",
            "    - setuptools==45.2.0=py37_0\n",
            "    - six==1.14.0=py37_0\n",
            "    - sqlite==3.31.1=h7b6447c_0\n",
            "    - tk==8.6.8=hbc83047_0\n",
            "    - tqdm==4.42.1=py_0\n",
            "    - urllib3==1.25.8=py37_0\n",
            "    - wheel==0.34.2=py37_0\n",
            "    - xz==5.2.4=h14c3975_4\n",
            "    - yaml==0.1.7=had09818_2\n",
            "    - zlib==1.2.11=h7b6447c_3\n",
            "\n",
            "\n",
            "The following NEW packages will be INSTALLED:\n",
            "\n",
            "  _libgcc_mutex      pkgs/main/linux-64::_libgcc_mutex-0.1-main\n",
            "  asn1crypto         pkgs/main/linux-64::asn1crypto-1.3.0-py37_0\n",
            "  ca-certificates    pkgs/main/linux-64::ca-certificates-2020.1.1-0\n",
            "  certifi            pkgs/main/linux-64::certifi-2019.11.28-py37_0\n",
            "  cffi               pkgs/main/linux-64::cffi-1.14.0-py37h2e261b9_0\n",
            "  chardet            pkgs/main/linux-64::chardet-3.0.4-py37_1003\n",
            "  conda              pkgs/main/linux-64::conda-4.8.2-py37_0\n",
            "  conda-package-han~ pkgs/main/linux-64::conda-package-handling-1.6.0-py37h7b6447c_0\n",
            "  cryptography       pkgs/main/linux-64::cryptography-2.8-py37h1ba5d50_0\n",
            "  idna               pkgs/main/linux-64::idna-2.8-py37_0\n",
            "  ld_impl_linux-64   pkgs/main/linux-64::ld_impl_linux-64-2.33.1-h53a641e_7\n",
            "  libedit            pkgs/main/linux-64::libedit-3.1.20181209-hc058e9b_0\n",
            "  libffi             pkgs/main/linux-64::libffi-3.2.1-hd88cf55_4\n",
            "  libgcc-ng          pkgs/main/linux-64::libgcc-ng-9.1.0-hdf63c60_0\n",
            "  libstdcxx-ng       pkgs/main/linux-64::libstdcxx-ng-9.1.0-hdf63c60_0\n",
            "  ncurses            pkgs/main/linux-64::ncurses-6.2-he6710b0_0\n",
            "  openssl            pkgs/main/linux-64::openssl-1.1.1d-h7b6447c_4\n",
            "  pip                pkgs/main/linux-64::pip-20.0.2-py37_1\n",
            "  pycosat            pkgs/main/linux-64::pycosat-0.6.3-py37h7b6447c_0\n",
            "  pycparser          pkgs/main/linux-64::pycparser-2.19-py37_0\n",
            "  pyopenssl          pkgs/main/linux-64::pyopenssl-19.1.0-py37_0\n",
            "  pysocks            pkgs/main/linux-64::pysocks-1.7.1-py37_0\n",
            "  python             pkgs/main/linux-64::python-3.7.6-h0371630_2\n",
            "  readline           pkgs/main/linux-64::readline-7.0-h7b6447c_5\n",
            "  requests           pkgs/main/linux-64::requests-2.22.0-py37_1\n",
            "  ruamel_yaml        pkgs/main/linux-64::ruamel_yaml-0.15.87-py37h7b6447c_0\n",
            "  setuptools         pkgs/main/linux-64::setuptools-45.2.0-py37_0\n",
            "  six                pkgs/main/linux-64::six-1.14.0-py37_0\n",
            "  sqlite             pkgs/main/linux-64::sqlite-3.31.1-h7b6447c_0\n",
            "  tk                 pkgs/main/linux-64::tk-8.6.8-hbc83047_0\n",
            "  tqdm               pkgs/main/noarch::tqdm-4.42.1-py_0\n",
            "  urllib3            pkgs/main/linux-64::urllib3-1.25.8-py37_0\n",
            "  wheel              pkgs/main/linux-64::wheel-0.34.2-py37_0\n",
            "  xz                 pkgs/main/linux-64::xz-5.2.4-h14c3975_4\n",
            "  yaml               pkgs/main/linux-64::yaml-0.1.7-had09818_2\n",
            "  zlib               pkgs/main/linux-64::zlib-1.2.11-h7b6447c_3\n",
            "\n",
            "\n",
            "Preparing transaction: / \b\b- \b\b\\ \b\b| \b\bdone\n",
            "Executing transaction: - \b\b\\ \b\b| \b\b/ \b\b- \b\b\\ \b\b| \b\b/ \b\b- \b\b\\ \b\b| \b\b/ \b\b- \b\b\\ \b\b| \b\b/ \b\b- \b\b\\ \b\b| \b\b/ \b\b- \b\bdone\n",
            "installation finished.\n",
            "WARNING:\n",
            "    You currently have a PYTHONPATH environment variable set. This may cause\n",
            "    unexpected behavior when running the Python interpreter in Miniconda3.\n",
            "    For best results, please verify that your PYTHONPATH only points to\n",
            "    directories of packages that are compatible with the Python interpreter\n",
            "    in Miniconda3: /usr/local\n",
            "Collecting package metadata (current_repodata.json): - \b\b\\ \b\b| \b\b/ \b\b- \b\b\\ \b\b| \b\b/ \b\b- \b\b\\ \b\b| \b\b/ \b\b- \b\b\\ \b\b| \b\b/ \b\b- \b\b\\ \b\bdone\n",
            "Solving environment: / \b\b- \b\b\\ \b\b| \b\b/ \b\b- \b\b\\ \b\b| \b\b/ \b\b- \b\b\\ \b\b| \b\bdone\n",
            "\n",
            "## Package Plan ##\n",
            "\n",
            "  environment location: /usr/local\n",
            "\n",
            "  added / updated specs:\n",
            "    - rdkit\n",
            "\n",
            "\n",
            "The following packages will be downloaded:\n",
            "\n",
            "    package                    |            build\n",
            "    ---------------------------|-----------------\n",
            "    blas-1.0                   |              mkl           6 KB\n",
            "    bzip2-1.0.8                |       h7b6447c_0          78 KB\n",
            "    ca-certificates-2021.4.13  |       h06a4308_1         114 KB\n",
            "    cairo-1.16.0               |       hf32fb01_1         1.0 MB\n",
            "    certifi-2020.12.5          |   py37h06a4308_0         141 KB\n",
            "    conda-4.10.1               |   py37h06a4308_1         2.9 MB\n",
            "    fontconfig-2.13.1          |       h6c09931_0         250 KB\n",
            "    freetype-2.10.4            |       h5ab3b9f_0         596 KB\n",
            "    glib-2.68.1                |       h36276a3_0         3.0 MB\n",
            "    icu-58.2                   |       he6710b0_3        10.5 MB\n",
            "    intel-openmp-2020.2        |              254         786 KB\n",
            "    jpeg-9b                    |       h024ee3a_2         214 KB\n",
            "    lcms2-2.12                 |       h3be6417_0         312 KB\n",
            "    libboost-1.73.0            |      h3ff78a5_11        13.9 MB\n",
            "    libffi-3.3                 |       he6710b0_2          50 KB\n",
            "    libpng-1.6.37              |       hbc83047_0         278 KB\n",
            "    libtiff-4.2.0              |       h85742a9_0         502 KB\n",
            "    libuuid-1.0.3              |       h1bed415_2          15 KB\n",
            "    libwebp-base-1.2.0         |       h27cfd23_0         437 KB\n",
            "    libxcb-1.14                |       h7b6447c_0         505 KB\n",
            "    libxml2-2.9.10             |       hb55368b_3         1.2 MB\n",
            "    lz4-c-1.9.3                |       h2531618_0         186 KB\n",
            "    mkl-2020.2                 |              256       138.3 MB\n",
            "    mkl-service-2.3.0          |   py37he8ac12f_0          52 KB\n",
            "    mkl_fft-1.3.0              |   py37h54f3939_0         167 KB\n",
            "    mkl_random-1.1.1           |   py37h0573a6f_0         322 KB\n",
            "    numpy-1.19.2               |   py37h54aff64_0          22 KB\n",
            "    numpy-base-1.19.2          |   py37hfa32c7d_0         4.1 MB\n",
            "    olefile-0.46               |           py37_0          50 KB\n",
            "    openssl-1.1.1k             |       h27cfd23_0         2.5 MB\n",
            "    pandas-1.2.4               |   py37h2531618_0         8.5 MB\n",
            "    pcre-8.44                  |       he6710b0_0         212 KB\n",
            "    pillow-8.2.0               |   py37he98fc37_0         622 KB\n",
            "    pixman-0.40.0              |       h7b6447c_0         370 KB\n",
            "    py-boost-1.73.0            |  py37ha9443f7_11         204 KB\n",
            "    python-dateutil-2.8.1      |     pyhd3eb1b0_0         221 KB\n",
            "    pytz-2021.1                |     pyhd3eb1b0_0         181 KB\n",
            "    rdkit-2020.09.1.0          |   py37hd50e099_1        25.8 MB  rdkit\n",
            "    xz-5.2.5                   |       h7b6447c_0         341 KB\n",
            "    zstd-1.4.5                 |       h9ceee32_0         619 KB\n",
            "    ------------------------------------------------------------\n",
            "                                           Total:       219.5 MB\n",
            "\n",
            "The following NEW packages will be INSTALLED:\n",
            "\n",
            "  blas               pkgs/main/linux-64::blas-1.0-mkl\n",
            "  bzip2              pkgs/main/linux-64::bzip2-1.0.8-h7b6447c_0\n",
            "  cairo              pkgs/main/linux-64::cairo-1.16.0-hf32fb01_1\n",
            "  fontconfig         pkgs/main/linux-64::fontconfig-2.13.1-h6c09931_0\n",
            "  freetype           pkgs/main/linux-64::freetype-2.10.4-h5ab3b9f_0\n",
            "  glib               pkgs/main/linux-64::glib-2.68.1-h36276a3_0\n",
            "  icu                pkgs/main/linux-64::icu-58.2-he6710b0_3\n",
            "  intel-openmp       pkgs/main/linux-64::intel-openmp-2020.2-254\n",
            "  jpeg               pkgs/main/linux-64::jpeg-9b-h024ee3a_2\n",
            "  lcms2              pkgs/main/linux-64::lcms2-2.12-h3be6417_0\n",
            "  libboost           pkgs/main/linux-64::libboost-1.73.0-h3ff78a5_11\n",
            "  libpng             pkgs/main/linux-64::libpng-1.6.37-hbc83047_0\n",
            "  libtiff            pkgs/main/linux-64::libtiff-4.2.0-h85742a9_0\n",
            "  libuuid            pkgs/main/linux-64::libuuid-1.0.3-h1bed415_2\n",
            "  libwebp-base       pkgs/main/linux-64::libwebp-base-1.2.0-h27cfd23_0\n",
            "  libxcb             pkgs/main/linux-64::libxcb-1.14-h7b6447c_0\n",
            "  libxml2            pkgs/main/linux-64::libxml2-2.9.10-hb55368b_3\n",
            "  lz4-c              pkgs/main/linux-64::lz4-c-1.9.3-h2531618_0\n",
            "  mkl                pkgs/main/linux-64::mkl-2020.2-256\n",
            "  mkl-service        pkgs/main/linux-64::mkl-service-2.3.0-py37he8ac12f_0\n",
            "  mkl_fft            pkgs/main/linux-64::mkl_fft-1.3.0-py37h54f3939_0\n",
            "  mkl_random         pkgs/main/linux-64::mkl_random-1.1.1-py37h0573a6f_0\n",
            "  numpy              pkgs/main/linux-64::numpy-1.19.2-py37h54aff64_0\n",
            "  numpy-base         pkgs/main/linux-64::numpy-base-1.19.2-py37hfa32c7d_0\n",
            "  olefile            pkgs/main/linux-64::olefile-0.46-py37_0\n",
            "  pandas             pkgs/main/linux-64::pandas-1.2.4-py37h2531618_0\n",
            "  pcre               pkgs/main/linux-64::pcre-8.44-he6710b0_0\n",
            "  pillow             pkgs/main/linux-64::pillow-8.2.0-py37he98fc37_0\n",
            "  pixman             pkgs/main/linux-64::pixman-0.40.0-h7b6447c_0\n",
            "  py-boost           pkgs/main/linux-64::py-boost-1.73.0-py37ha9443f7_11\n",
            "  python-dateutil    pkgs/main/noarch::python-dateutil-2.8.1-pyhd3eb1b0_0\n",
            "  pytz               pkgs/main/noarch::pytz-2021.1-pyhd3eb1b0_0\n",
            "  rdkit              rdkit/linux-64::rdkit-2020.09.1.0-py37hd50e099_1\n",
            "  zstd               pkgs/main/linux-64::zstd-1.4.5-h9ceee32_0\n",
            "\n",
            "The following packages will be UPDATED:\n",
            "\n",
            "  ca-certificates                                2020.1.1-0 --> 2021.4.13-h06a4308_1\n",
            "  certifi                                 2019.11.28-py37_0 --> 2020.12.5-py37h06a4308_0\n",
            "  conda                                        4.8.2-py37_0 --> 4.10.1-py37h06a4308_1\n",
            "  libffi                                   3.2.1-hd88cf55_4 --> 3.3-he6710b0_2\n",
            "  openssl                                 1.1.1d-h7b6447c_4 --> 1.1.1k-h27cfd23_0\n",
            "  xz                                       5.2.4-h14c3975_4 --> 5.2.5-h7b6447c_0\n",
            "\n",
            "\n",
            "\n",
            "Downloading and Extracting Packages\n",
            "icu-58.2             | 10.5 MB   | : 100% 1.0/1 [00:00<00:00,  5.04s/it]               \n",
            "ca-certificates-2021 | 114 KB    | : 100% 1.0/1 [00:00<00:00, 17.59it/s]\n",
            "freetype-2.10.4      | 596 KB    | : 100% 1.0/1 [00:00<00:00, 11.09it/s]\n",
            "pandas-1.2.4         | 8.5 MB    | : 100% 1.0/1 [00:00<00:00,  1.55it/s]               \n",
            "libboost-1.73.0      | 13.9 MB   | : 100% 1.0/1 [00:01<00:00,  1.71s/it]               \n",
            "lz4-c-1.9.3          | 186 KB    | : 100% 1.0/1 [00:00<00:00, 14.12it/s]\n",
            "intel-openmp-2020.2  | 786 KB    | : 100% 1.0/1 [00:00<00:00, 12.05it/s]\n",
            "mkl-2020.2           | 138.3 MB  | : 100% 1.0/1 [00:05<00:00,  5.26s/it]               \n",
            "certifi-2020.12.5    | 141 KB    | : 100% 1.0/1 [00:00<00:00, 14.86it/s]\n",
            "pillow-8.2.0         | 622 KB    | : 100% 1.0/1 [00:00<00:00, 11.38it/s]\n",
            "blas-1.0             | 6 KB      | : 100% 1.0/1 [00:00<00:00, 15.27it/s]\n",
            "mkl_fft-1.3.0        | 167 KB    | : 100% 1.0/1 [00:00<00:00, 13.71it/s]\n",
            "openssl-1.1.1k       | 2.5 MB    | : 100% 1.0/1 [00:00<00:00,  7.30it/s]\n",
            "libwebp-base-1.2.0   | 437 KB    | : 100% 1.0/1 [00:00<00:00, 11.43it/s]\n",
            "libxcb-1.14          | 505 KB    | : 100% 1.0/1 [00:00<00:00, 10.82it/s]\n",
            "libffi-3.3           | 50 KB     | : 100% 1.0/1 [00:00<00:00, 14.94it/s]\n",
            "conda-4.10.1         | 2.9 MB    | : 100% 1.0/1 [00:00<00:00,  6.03it/s]\n",
            "zstd-1.4.5           | 619 KB    | : 100% 1.0/1 [00:00<00:00, 13.69it/s]\n",
            "olefile-0.46         | 50 KB     | : 100% 1.0/1 [00:00<00:00, 16.29it/s]\n",
            "libxml2-2.9.10       | 1.2 MB    | : 100% 1.0/1 [00:00<00:00,  7.37it/s]\n",
            "pixman-0.40.0        | 370 KB    | : 100% 1.0/1 [00:00<00:00, 10.49it/s]\n",
            "bzip2-1.0.8          | 78 KB     | : 100% 1.0/1 [00:00<00:00, 12.03it/s]\n",
            "libpng-1.6.37        | 278 KB    | : 100% 1.0/1 [00:00<00:00, 10.67it/s]\n",
            "lcms2-2.12           | 312 KB    | : 100% 1.0/1 [00:00<00:00,  6.82it/s]\n",
            "rdkit-2020.09.1.0    | 25.8 MB   | : 100% 1.0/1 [00:07<00:00,  7.13s/it]\n",
            "mkl_random-1.1.1     | 322 KB    | : 100% 1.0/1 [00:00<00:00,  5.04it/s]\n",
            "glib-2.68.1          | 3.0 MB    | : 100% 1.0/1 [00:00<00:00,  2.86it/s]\n",
            "python-dateutil-2.8. | 221 KB    | : 100% 1.0/1 [00:00<00:00, 13.21it/s]\n",
            "numpy-1.19.2         | 22 KB     | : 100% 1.0/1 [00:00<00:00, 10.82it/s]\n",
            "xz-5.2.5             | 341 KB    | : 100% 1.0/1 [00:00<00:00,  4.01it/s]\n",
            "py-boost-1.73.0      | 204 KB    | : 100% 1.0/1 [00:00<00:00,  4.09it/s]\n",
            "pcre-8.44            | 212 KB    | : 100% 1.0/1 [00:00<00:00,  4.58it/s]\n",
            "pytz-2021.1          | 181 KB    | : 100% 1.0/1 [00:00<00:00,  4.54it/s]\n",
            "cairo-1.16.0         | 1.0 MB    | : 100% 1.0/1 [00:00<00:00,  4.70it/s]\n",
            "libtiff-4.2.0        | 502 KB    | : 100% 1.0/1 [00:00<00:00,  2.96it/s]\n",
            "fontconfig-2.13.1    | 250 KB    | : 100% 1.0/1 [00:00<00:00,  4.36it/s]\n",
            "jpeg-9b              | 214 KB    | : 100% 1.0/1 [00:00<00:00,  5.67it/s]\n",
            "mkl-service-2.3.0    | 52 KB     | : 100% 1.0/1 [00:00<00:00,  5.01it/s]\n",
            "libuuid-1.0.3        | 15 KB     | : 100% 1.0/1 [00:00<00:00,  6.79it/s]\n",
            "numpy-base-1.19.2    | 4.1 MB    | : 100% 1.0/1 [00:00<00:00,  1.38it/s]               \n",
            "Preparing transaction: - \b\b\\ \b\b| \b\b/ \b\b- \b\b\\ \b\b| \b\b/ \b\b- \b\b\\ \b\b| \b\b/ \b\b- \b\bdone\n",
            "Verifying transaction: | \b\b/ \b\b- \b\b\\ \b\b| \b\b/ \b\b- \b\b\\ \b\b| \b\b/ \b\b- \b\b\\ \b\b| \b\b/ \b\b- \b\b\\ \b\b| \b\b/ \b\b- \b\b\\ \b\b| \b\b/ \b\b- \b\b\\ \b\b| \b\b/ \b\b- \b\b\\ \b\b| \b\b/ \b\b- \b\b\\ \b\b| \b\b/ \b\b- \b\b\\ \b\b| \b\b/ \b\bdone\n",
            "Executing transaction: \\ \b\b| \b\b/ \b\b- \b\b\\ \b\b| \b\b/ \b\b- \b\b\\ \b\b| \b\b/ \b\b- \b\b\\ \b\b| \b\b/ \b\b- \b\b\\ \b\b| \b\b/ \b\b- \b\b\\ \b\b| \b\b/ \b\b- \b\b\\ \b\b| \b\b/ \b\b- \b\b\\ \b\b| \b\b/ \b\b- \b\b\\ \b\b| \b\b/ \b\b- \b\b\\ \b\b| \b\b/ \b\b- \b\b\\ \b\b| \b\b/ \b\b- \b\b\\ \b\b| \b\b/ \b\b- \b\b\\ \b\b| \b\b/ \b\b- \b\b\\ \b\b| \b\b/ \b\b- \b\b\\ \b\b| \b\b/ \b\b- \b\b\\ \b\b| \b\b/ \b\b- \b\b\\ \b\b| \b\b/ \b\b- \b\b\\ \b\b| \b\b/ \b\b- \b\b\\ \b\b| \b\b/ \b\b- \b\b\\ \b\b| \b\b/ \b\b- \b\b\\ \b\b| \b\b/ \b\b- \b\b\\ \b\b| \b\b/ \b\b- \b\b\\ \b\b| \b\b/ \b\b- \b\b\\ \b\b| \b\b/ \b\b- \b\b\\ \b\b| \b\b/ \b\b- \b\b\\ \b\b| \b\b/ \b\b- \b\b\\ \b\b| \b\b/ \b\b- \b\b\\ \b\b| \b\b/ \b\b- \b\b\\ \b\b| \b\b/ \b\b- \b\b\\ \b\b| \b\b/ \b\b- \b\b\\ \b\b| \b\b/ \b\b- \b\b\\ \b\b| \b\b/ \b\b- \b\b\\ \b\b| \b\b/ \b\b- \b\b\\ \b\b| \b\b/ \b\b- \b\b\\ \b\b| \b\b/ \b\b- \b\b\\ \b\b| \b\b/ \b\b- \b\b\\ \b\b| \b\b/ \b\b- \b\b\\ \b\b| \b\b/ \b\b- \b\b\\ \b\b| \b\b/ \b\b- \b\b\\ \b\b| \b\b/ \b\b- \b\b\\ \b\b| \b\b/ \b\b- \b\b\\ \b\b| \b\b/ \b\b- \b\b\\ \b\b| \b\b/ \b\b- \b\b\\ \b\b| \b\b/ \b\b- \b\b\\ \b\b| \b\b/ \b\b- \b\b\\ \b\b| \b\b/ \b\b- \b\b\\ \b\b| \b\b/ \b\b- \b\b\\ \b\b| \b\b/ \b\b- \b\b\\ \b\b| \b\b/ \b\b- \b\b\\ \b\b| \b\b/ \b\b- \b\b\\ \b\b| \b\b/ \b\b- \b\b\\ \b\b| \b\b/ \b\b- \b\b\\ \b\b| \b\b/ \b\b- \b\b\\ \b\b| \b\b/ \b\b- \b\b\\ \b\b| \b\b/ \b\b- \b\b\\ \b\b| \b\b/ \b\b- \b\b\\ \b\b| \b\b/ \b\b- \b\b\\ \b\b| \b\b/ \b\b- \b\b\\ \b\b| \b\b/ \b\b- \b\b\\ \b\b| \b\b/ \b\b- \b\b\\ \b\b| \b\b/ \b\b- \b\b\\ \b\b| \b\b/ \b\b- \b\b\\ \b\b| \b\b/ \b\b- \b\b\\ \b\b| \b\b/ \b\b- \b\b\\ \b\b| \b\b/ \b\b- \b\b\\ \b\b| \b\b/ \b\b- \b\b\\ \b\b| \b\b/ \b\b- \b\b\\ \b\b| \b\b/ \b\b- \b\b\\ \b\b| \b\b/ \b\b- \b\b\\ \b\b| \b\b/ \b\b- \b\b\\ \b\b| \b\b/ \b\b- \b\b\\ \b\b| \b\b/ \b\b- \b\b\\ \b\b| \b\b/ \b\b- \b\b\\ \b\b| \b\b/ \b\b- \b\b\\ \b\b| \b\b/ \b\b- \b\b\\ \b\b| \b\b/ \b\b- \b\b\\ \b\b| \b\b/ \b\b- \b\b\\ \b\b| \b\b/ \b\b- \b\b\\ \b\b| \b\b/ \b\b- \b\bdone\n"
          ],
          "name": "stdout"
        }
      ]
    },
    {
      "cell_type": "code",
      "metadata": {
        "id": "qLrGHsY4e_PZ",
        "colab": {
          "base_uri": "https://localhost:8080/"
        },
        "outputId": "e045637b-9fec-4542-ce14-8b69e76f5dc2"
      },
      "source": [
        "!pip install rdkit\n"
      ],
      "execution_count": null,
      "outputs": [
        {
          "output_type": "stream",
          "text": [
            "\u001b[31mERROR: Could not find a version that satisfies the requirement rdkit (from versions: none)\u001b[0m\n",
            "\u001b[31mERROR: No matching distribution found for rdkit\u001b[0m\n"
          ],
          "name": "stdout"
        }
      ]
    },
    {
      "cell_type": "code",
      "metadata": {
        "id": "1bRyhgsIfSZE",
        "colab": {
          "base_uri": "https://localhost:8080/"
        },
        "outputId": "e839aa12-bbc1-4569-e392-e3aa8f65beb6"
      },
      "source": [
        "!pip install git+https://github.com/bp-kelley/descriptastorus"
      ],
      "execution_count": 3,
      "outputs": [
        {
          "output_type": "stream",
          "text": [
            "Collecting git+https://github.com/bp-kelley/descriptastorus\n",
            "  Cloning https://github.com/bp-kelley/descriptastorus to /tmp/pip-req-build-an3mv4k0\n",
            "  Running command git clone -q https://github.com/bp-kelley/descriptastorus /tmp/pip-req-build-an3mv4k0\n",
            "Collecting pandas_flavor\n",
            "  Using cached pandas_flavor-0.2.0-py2.py3-none-any.whl (6.6 kB)\n",
            "Requirement already satisfied: pandas in /usr/local/lib/python3.7/site-packages (from pandas_flavor->descriptastorus==2.3.0.2) (1.2.4)\n",
            "Collecting xarray\n",
            "  Downloading xarray-0.17.0-py3-none-any.whl (759 kB)\n",
            "\u001b[K     |████████████████████████████████| 759 kB 4.4 MB/s \n",
            "\u001b[?25hRequirement already satisfied: python-dateutil>=2.7.3 in /usr/local/lib/python3.7/site-packages (from pandas->pandas_flavor->descriptastorus==2.3.0.2) (2.8.1)\n",
            "Requirement already satisfied: pytz>=2017.3 in /usr/local/lib/python3.7/site-packages (from pandas->pandas_flavor->descriptastorus==2.3.0.2) (2021.1)\n",
            "Requirement already satisfied: numpy>=1.16.5 in /usr/local/lib/python3.7/site-packages (from pandas->pandas_flavor->descriptastorus==2.3.0.2) (1.19.2)\n",
            "Requirement already satisfied: setuptools>=40.4 in /usr/local/lib/python3.7/site-packages (from xarray->pandas_flavor->descriptastorus==2.3.0.2) (45.2.0.post20200210)\n",
            "Requirement already satisfied: six>=1.5 in /usr/local/lib/python3.7/site-packages (from python-dateutil>=2.7.3->pandas->pandas_flavor->descriptastorus==2.3.0.2) (1.14.0)\n",
            "Building wheels for collected packages: descriptastorus\n",
            "  Building wheel for descriptastorus (setup.py) ... \u001b[?25l\u001b[?25hdone\n",
            "  Created wheel for descriptastorus: filename=descriptastorus-2.3.0.2-py3-none-any.whl size=60174 sha256=6d23ed48eba53b7710fa8f0fa5bf0d19ef64d917ec2b814729a0716f148e51b5\n",
            "  Stored in directory: /tmp/pip-ephem-wheel-cache-8imctsp2/wheels/f9/c3/4f/e7d01f4f2f1a89aef8f0ef088beb4a94976324f3ee21410b10\n",
            "Successfully built descriptastorus\n",
            "Installing collected packages: xarray, pandas-flavor, descriptastorus\n",
            "Successfully installed descriptastorus-2.3.0.2 pandas-flavor-0.2.0 xarray-0.17.0\n"
          ],
          "name": "stdout"
        }
      ]
    },
    {
      "cell_type": "code",
      "metadata": {
        "id": "tEc4A3PnfrKb",
        "colab": {
          "base_uri": "https://localhost:8080/"
        },
        "outputId": "97089e23-c42a-47e6-ac4a-7418d9fb1030"
      },
      "source": [
        "\n",
        "from DeepPurpose import utils, dataset\n",
        "from DeepPurpose import DTI as models\n",
        "import warnings\n",
        "warnings.filterwarnings(\"ignore\")"
      ],
      "execution_count": 4,
      "outputs": [
        {
          "output_type": "stream",
          "text": [
            "WARNING:root:No normalization for BCUT2D_MWHI\n",
            "WARNING:root:No normalization for BCUT2D_MWLOW\n",
            "WARNING:root:No normalization for BCUT2D_CHGHI\n",
            "WARNING:root:No normalization for BCUT2D_CHGLO\n",
            "WARNING:root:No normalization for BCUT2D_LOGPHI\n",
            "WARNING:root:No normalization for BCUT2D_LOGPLOW\n",
            "WARNING:root:No normalization for BCUT2D_MRHI\n",
            "WARNING:root:No normalization for BCUT2D_MRLOW\n"
          ],
          "name": "stderr"
        }
      ]
    },
    {
      "cell_type": "code",
      "metadata": {
        "id": "4VcVKkX2kHJT"
      },
      "source": [
        "import pandas as pd"
      ],
      "execution_count": 6,
      "outputs": []
    },
    {
      "cell_type": "code",
      "metadata": {
        "colab": {
          "base_uri": "https://localhost:8080/"
        },
        "id": "68XtLtdejnvj",
        "outputId": "4aaca8a2-ed85-416f-91b8-1cd88fd01f2a"
      },
      "source": [
        "df = pd.read_csv('manana.csv').sample( replace = False).reset_index(drop = True)\n",
        "alpha=df['Target'].values, df['SMILES'].values\n",
        "alpha"
      ],
      "execution_count": 10,
      "outputs": [
        {
          "output_type": "execute_result",
          "data": {
            "text/plain": [
              "(array(['SNAMGTKNIGKGLTFEDILLVPNYSEVLPREVSLETKLTKNVSLKIPLISSAMDTVTEHLMAVGMARLGGIGIIHKNMDMESQVNEVLKVKNSGGLRVGAAIGVNEIERAKLLVEAGVDVIVLDSAHGHSLNIIRTLKEIKSKMNIDVIVGNVVTEEATKELIENGADGIKVGIGPGSICTTRIVAGVGVPQITAIEKCSSVASKFGIPIIADGGIRYSGDIGKALAVGASSVMIGSILAGTEESPGEKELIGDTVYKYYRGMGSVGAMKSGSGDRYFQEKRPENKMVPEGIEGRVKYKGEMEGVVYQLVGGLRSCMGYLGSASIEELWKKSSYVEITTSGLRESHVHDVEIVKEVMNYSK'],\n",
              "       dtype=object), array(['C=CC#CCCCCCCCCCCO'], dtype=object))"
            ]
          },
          "metadata": {
            "tags": []
          },
          "execution_count": 10
        }
      ]
    },
    {
      "cell_type": "code",
      "metadata": {
        "id": "Bc2ZXUa4f9PW",
        "colab": {
          "base_uri": "https://localhost:8080/"
        },
        "outputId": "7b563d87-f2e3-4791-fbbb-40d53c2f7d6c"
      },
      "source": [
        "X_drugs, X_targets, y = dataset.read_file_training_dataset_drug_target_pairs('comban.txt')\n",
        "print('Drug 1: ' + X_drugs[0])\n",
        "print('Target 1: ' + X_targets[0])\n",
        "print('Score 1: ' + str(y[0]))"
      ],
      "execution_count": 11,
      "outputs": [
        {
          "output_type": "stream",
          "text": [
            "Drug 1: C[C@@H](Oc1ccnc2ccccc12)c1cn(-c2ccc(Cl)c(Cl)c2)nn1\n",
            "Target 1: SNAMGTKNIGKGLTFEDILLVPNYSEVLPREVSLETKLTKNVSLKIPLISSAMDTVTEHLMAVGMARLGGIGIIHKNMDMESQVNEVLKVKNSGGLRVGAAIGVNEIERAKLLVEAGVDVIVLDSAHGHSLNIIRTLKEIKSKMNIDVIVGNVVTEEATKELIENGADGIKVGIGPGSICTTRIVAGVGVPQITAIEKCSSVASKFGIPIIADGGIRYSGDIGKALAVGASSVMIGSILAGTEESPGEKELIGDTVYKYYRGMGSVGAMKSGSGDRYFQEKRPENKMVPEGIEGRVKYKGEMEGVVYQLVGGLRSCMGYLGSASIEELWKKSSYVEITTSGLRESHVHDVEIVKEVMNYSK\n",
            "Score 1: 8.045757491\n"
          ],
          "name": "stdout"
        }
      ]
    },
    {
      "cell_type": "code",
      "metadata": {
        "id": "hEYiHHzogSAb"
      },
      "source": [
        "\n",
        "drug_encoding, target_encoding = 'Pubchem', 'CNN'\n",
        "#drug_encoding, target_encoding = 'Morgan', 'Conjoint_triad'"
      ],
      "execution_count": 33,
      "outputs": []
    },
    {
      "cell_type": "code",
      "metadata": {
        "id": "JHEQMp7jgaoS",
        "colab": {
          "base_uri": "https://localhost:8080/",
          "height": 274
        },
        "outputId": "017f0b85-d273-41fa-ce81-ace8034fc93f"
      },
      "source": [
        "train, val, test = utils.data_process(X_drugs, X_targets, y, \n",
        "                                drug_encoding, target_encoding, \n",
        "                                split_method='random',frac=[0.7,0.1,0.2],\n",
        "                                random_seed = 1)\n",
        "train.head(1)"
      ],
      "execution_count": 34,
      "outputs": [
        {
          "output_type": "stream",
          "text": [
            "Drug Target Interaction Prediction Mode...\n",
            "in total: 387 drug-target pairs\n",
            "encoding drug...\n",
            "unique drugs: 236\n",
            "encoding protein...\n",
            "unique target sequence: 1\n",
            "splitting dataset...\n",
            "Done.\n"
          ],
          "name": "stdout"
        },
        {
          "output_type": "execute_result",
          "data": {
            "text/html": [
              "<div>\n",
              "<style scoped>\n",
              "    .dataframe tbody tr th:only-of-type {\n",
              "        vertical-align: middle;\n",
              "    }\n",
              "\n",
              "    .dataframe tbody tr th {\n",
              "        vertical-align: top;\n",
              "    }\n",
              "\n",
              "    .dataframe thead th {\n",
              "        text-align: right;\n",
              "    }\n",
              "</style>\n",
              "<table border=\"1\" class=\"dataframe\">\n",
              "  <thead>\n",
              "    <tr style=\"text-align: right;\">\n",
              "      <th></th>\n",
              "      <th>SMILES</th>\n",
              "      <th>Target Sequence</th>\n",
              "      <th>Label</th>\n",
              "      <th>drug_encoding</th>\n",
              "      <th>target_encoding</th>\n",
              "    </tr>\n",
              "  </thead>\n",
              "  <tbody>\n",
              "    <tr>\n",
              "      <th>0</th>\n",
              "      <td>C[C@@H](Oc1ccnc2ccccc12)c1cn(-c2ccc(Cl)c(Cl)c2...</td>\n",
              "      <td>SNAMGTKNIGKGLTFEDILLVPNYSEVLPREVSLETKLTKNVSLKI...</td>\n",
              "      <td>8.045757</td>\n",
              "      <td>[0, 0, 0, 0, 0, 0, 0, 0, 0, 1, 0, 0, 0, 0, 0, ...</td>\n",
              "      <td>[S, N, A, M, G, T, K, N, I, G, K, G, L, T, F, ...</td>\n",
              "    </tr>\n",
              "  </tbody>\n",
              "</table>\n",
              "</div>"
            ],
            "text/plain": [
              "                                              SMILES  ...                                    target_encoding\n",
              "0  C[C@@H](Oc1ccnc2ccccc12)c1cn(-c2ccc(Cl)c(Cl)c2...  ...  [S, N, A, M, G, T, K, N, I, G, K, G, L, T, F, ...\n",
              "\n",
              "[1 rows x 5 columns]"
            ]
          },
          "metadata": {
            "tags": []
          },
          "execution_count": 34
        }
      ]
    },
    {
      "cell_type": "code",
      "metadata": {
        "id": "z0nvW0wRggG8"
      },
      "source": [
        "\n",
        "config = utils.generate_config(drug_encoding = drug_encoding, \n",
        "                         target_encoding = target_encoding, \n",
        "                         cls_hidden_dims = [1024,1024,512], \n",
        "                         train_epoch = 15, \n",
        "                         LR = 0.001, \n",
        "                         batch_size = 14,\n",
        "                         hidden_dim_drug = 128,\n",
        "                         mpnn_hidden_size = 128,\n",
        "                         mpnn_depth = 3, \n",
        "                         cnn_target_filters = [32,64,96],\n",
        "                         cnn_target_kernels = [4,8,12]\n",
        "                        )"
      ],
      "execution_count": 38,
      "outputs": []
    },
    {
      "cell_type": "code",
      "metadata": {
        "id": "vl2wrUgvglXo",
        "colab": {
          "base_uri": "https://localhost:8080/"
        },
        "outputId": "50bc85d9-964a-443c-dad1-46635f04156b"
      },
      "source": [
        "model = models.model_initialize(**config)\n",
        "model\n"
      ],
      "execution_count": 39,
      "outputs": [
        {
          "output_type": "execute_result",
          "data": {
            "text/plain": [
              "<DeepPurpose.DTI.DBTA at 0x7f0eb2cea7d0>"
            ]
          },
          "metadata": {
            "tags": []
          },
          "execution_count": 39
        }
      ]
    },
    {
      "cell_type": "code",
      "metadata": {
        "id": "9dKNWG4ngrIl",
        "colab": {
          "base_uri": "https://localhost:8080/",
          "height": 942
        },
        "outputId": "0d1873f5-1f0e-4f08-90a0-668c4baebd9a"
      },
      "source": [
        "model.train(train, val, test)"
      ],
      "execution_count": 40,
      "outputs": [
        {
          "output_type": "stream",
          "text": [
            "Let's use CPU/s!\n",
            "--- Data Preparation ---\n",
            "--- Go for Training ---\n",
            "Training at Epoch 1 iteration 0 with loss 50.4042. Total time 0.0 hours\n",
            "Validation at Epoch 1 with loss:0.76392, MSE: 1.68819 , Pearson Correlation: 0.34391 with p-value: 0.03205 , Concordance Index: 0.62928\n",
            "Training at Epoch 2 iteration 0 with loss 2.06926. Total time 0.00277 hours\n",
            "Validation at Epoch 2 with loss:1.00935, MSE: 1.20880 , Pearson Correlation: 0.54645 with p-value: 0.00031 , Concordance Index: 0.75928\n",
            "Training at Epoch 3 iteration 0 with loss 0.76115. Total time 0.00527 hours\n",
            "Validation at Epoch 3 with loss:0.93731, MSE: 1.06461 , Pearson Correlation: 0.61337 with p-value: 3.29788 , Concordance Index: 0.74571\n",
            "Training at Epoch 4 iteration 0 with loss 0.76517. Total time 0.00805 hours\n",
            "Validation at Epoch 4 with loss:0.95830, MSE: 0.80423 , Pearson Correlation: 0.66763 with p-value: 3.43637 , Concordance Index: 0.75928\n",
            "Training at Epoch 5 iteration 0 with loss 0.55302. Total time 0.01055 hours\n",
            "Validation at Epoch 5 with loss:0.88365, MSE: 0.80409 , Pearson Correlation: 0.66038 with p-value: 4.77304 , Concordance Index: 0.76785\n",
            "Training at Epoch 6 iteration 0 with loss 0.36121. Total time 0.01333 hours\n",
            "Validation at Epoch 6 with loss:0.68814, MSE: 0.78119 , Pearson Correlation: 0.68943 with p-value: 1.21054 , Concordance Index: 0.765\n",
            "Training at Epoch 7 iteration 0 with loss 0.70340. Total time 0.01583 hours\n",
            "Validation at Epoch 7 with loss:1.05701, MSE: 0.89685 , Pearson Correlation: 0.70550 with p-value: 5.28472 , Concordance Index: 0.77357\n",
            "Training at Epoch 8 iteration 0 with loss 1.03096. Total time 0.01861 hours\n",
            "Validation at Epoch 8 with loss:1.35770, MSE: 0.86862 , Pearson Correlation: 0.69392 with p-value: 9.65491 , Concordance Index: 0.77642\n",
            "Training at Epoch 9 iteration 0 with loss 0.57305. Total time 0.02111 hours\n",
            "Validation at Epoch 9 with loss:0.30532, MSE: 0.68544 , Pearson Correlation: 0.70115 with p-value: 6.64735 , Concordance Index: 0.78785\n",
            "Training at Epoch 10 iteration 0 with loss 0.50040. Total time 0.02388 hours\n",
            "Validation at Epoch 10 with loss:0.55006, MSE: 0.75629 , Pearson Correlation: 0.65573 with p-value: 5.86658 , Concordance Index: 0.765\n",
            "Training at Epoch 11 iteration 0 with loss 0.92105. Total time 0.02666 hours\n",
            "Validation at Epoch 11 with loss:0.38340, MSE: 0.88294 , Pearson Correlation: 0.69211 with p-value: 1.05816 , Concordance Index: 0.77928\n",
            "Training at Epoch 12 iteration 0 with loss 0.93495. Total time 0.02916 hours\n",
            "Validation at Epoch 12 with loss:2.35660, MSE: 1.19974 , Pearson Correlation: 0.65086 with p-value: 7.25063 , Concordance Index: 0.76357\n",
            "Training at Epoch 13 iteration 0 with loss 0.23849. Total time 0.03194 hours\n",
            "Validation at Epoch 13 with loss:0.57335, MSE: 0.70836 , Pearson Correlation: 0.68553 with p-value: 1.46800 , Concordance Index: 0.77785\n",
            "Training at Epoch 14 iteration 0 with loss 0.31132. Total time 0.03472 hours\n",
            "Validation at Epoch 14 with loss:0.41404, MSE: 0.85465 , Pearson Correlation: 0.69242 with p-value: 1.04172 , Concordance Index: 0.77642\n",
            "Training at Epoch 15 iteration 0 with loss 0.31579. Total time 0.0375 hours\n",
            "Validation at Epoch 15 with loss:0.33406, MSE: 0.89079 , Pearson Correlation: 0.72381 with p-value: 1.91846 , Concordance Index: 0.80071\n",
            "--- Go for Testing ---\n",
            "Testing MSE: 0.5707993049802196 , Pearson Correlation: 0.7287226119558083 with p-value: 5.797747591781859e-14 , Concordance Index: 0.7911231884057971\n",
            "--- Training Finished ---\n"
          ],
          "name": "stdout"
        },
        {
          "output_type": "display_data",
          "data": {
            "image/png": "[encoded data removed]",
            "text/plain": [
              "<Figure size 432x288 with 1 Axes>"
            ]
          },
          "metadata": {
            "tags": [],
            "needs_background": "light"
          }
        }
      ]
    },
    {
      "cell_type": "code",
      "metadata": {
        "id": "LBle5UpD8Oky"
      },
      "source": [
        "def doll(n=100):\n",
        "\tdf = pd.read_csv('manana.csv').sample(n=n, replace = False).reset_index(drop = True)\n",
        "\treturn df['Target'].values, df['SMILES'].values"
      ],
      "execution_count": 55,
      "outputs": []
    },
    {
      "cell_type": "code",
      "metadata": {
        "colab": {
          "base_uri": "https://localhost:8080/",
          "height": 202
        },
        "id": "vlnnDhsB6RLu",
        "outputId": "9ffb973e-6627-4356-e1e9-d588b90a3166"
      },
      "source": [
        "t,t_name= \n",
        "print('Target Name: ' + t_name)\n",
        "print('Amino Acid Sequence: '+ t)"
      ],
      "execution_count": 48,
      "outputs": [
        {
          "output_type": "error",
          "ename": "NameError",
          "evalue": "ignored",
          "traceback": [
            "\u001b[0;31m---------------------------------------------------------------------------\u001b[0m",
            "\u001b[0;31mNameError\u001b[0m                                 Traceback (most recent call last)",
            "\u001b[0;32m<ipython-input-48-ca54c1d48eb9>\u001b[0m in \u001b[0;36m<module>\u001b[0;34m()\u001b[0m\n\u001b[0;32m----> 1\u001b[0;31m \u001b[0mt\u001b[0m\u001b[0;34m,\u001b[0m\u001b[0mt_name\u001b[0m\u001b[0;34m=\u001b[0m \u001b[0mzola\u001b[0m\u001b[0;34m.\u001b[0m\u001b[0mdoll\u001b[0m\u001b[0;34m\u001b[0m\u001b[0;34m\u001b[0m\u001b[0m\n\u001b[0m\u001b[1;32m      2\u001b[0m \u001b[0mprint\u001b[0m\u001b[0;34m(\u001b[0m\u001b[0;34m'Target Name: '\u001b[0m \u001b[0;34m+\u001b[0m \u001b[0mt_name\u001b[0m\u001b[0;34m)\u001b[0m\u001b[0;34m\u001b[0m\u001b[0;34m\u001b[0m\u001b[0m\n\u001b[1;32m      3\u001b[0m \u001b[0mprint\u001b[0m\u001b[0;34m(\u001b[0m\u001b[0;34m'Amino Acid Sequence: '\u001b[0m\u001b[0;34m+\u001b[0m \u001b[0mt\u001b[0m\u001b[0;34m)\u001b[0m\u001b[0;34m\u001b[0m\u001b[0;34m\u001b[0m\u001b[0m\n",
            "\u001b[0;31mNameError\u001b[0m: name 'zola' is not defined"
          ]
        }
      ]
    },
    {
      "cell_type": "code",
      "metadata": {
        "colab": {
          "base_uri": "https://localhost:8080/"
        },
        "id": "1TaEbNgB7Ayh",
        "outputId": "53fe6cd8-110a-4421-b183-0ad7b4e7699c"
      },
      "source": [
        "t,d=doll()\n",
        "print('target:',t)\n",
        "print('drug:',d)\n"
      ],
      "execution_count": 56,
      "outputs": [
        {
          "output_type": "stream",
          "text": [
            "target: ['SNAMGTKNIGKGLTFEDILLVPNYSEVLPREVSLETKLTKNVSLKIPLISSAMDTVTEHLMAVGMARLGGIGIIHKNMDMESQVNEVLKVKNSGGLRVGAAIGVNEIERAKLLVEAGVDVIVLDSAHGHSLNIIRTLKEIKSKMNIDVIVGNVVTEEATKELIENGADGIKVGIGPGSICTTRIVAGVGVPQITAIEKCSSVASKFGIPIIADGGIRYSGDIGKALAVGASSVMIGSILAGTEESPGEKELIGDTVYKYYRGMGSVGAMKSGSGDRYFQEKRPENKMVPEGIEGRVKYKGEMEGVVYQLVGGLRSCMGYLGSASIEELWKKSSYVEITTSGLRESHVHDVEIVKEVMNYSK'\n",
            " 'SNAMGTKNIGKGLTFEDILLVPNYSEVLPREVSLETKLTKNVSLKIPLISSAMDTVTEHLMAVGMARLGGIGIIHKNMDMESQVNEVLKVKNSGGLRVGAAIGVNEIERAKLLVEAGVDVIVLDSAHGHSLNIIRTLKEIKSKMNIDVIVGNVVTEEATKELIENGADGIKVGIGPGSICTTRIVAGVGVPQITAIEKCSSVASKFGIPIIADGGIRYSGDIGKALAVGASSVMIGSILAGTEESPGEKELIGDTVYKYYRGMGSVGAMKSGSGDRYFQEKRPENKMVPEGIEGRVKYKGEMEGVVYQLVGGLRSCMGYLGSASIEELWKKSSYVEITTSGLRESHVHDVEIVKEVMNYSK'\n",
            " 'SNAMGTKNIGKGLTFEDILLVPNYSEVLPREVSLETKLTKNVSLKIPLISSAMDTVTEHLMAVGMARLGGIGIIHKNMDMESQVNEVLKVKNSGGLRVGAAIGVNEIERAKLLVEAGVDVIVLDSAHGHSLNIIRTLKEIKSKMNIDVIVGNVVTEEATKELIENGADGIKVGIGPGSICTTRIVAGVGVPQITAIEKCSSVASKFGIPIIADGGIRYSGDIGKALAVGASSVMIGSILAGTEESPGEKELIGDTVYKYYRGMGSVGAMKSGSGDRYFQEKRPENKMVPEGIEGRVKYKGEMEGVVYQLVGGLRSCMGYLGSASIEELWKKSSYVEITTSGLRESHVHDVEIVKEVMNYSK'\n",
            " 'SNAMGTKNIGKGLTFEDILLVPNYSEVLPREVSLETKLTKNVSLKIPLISSAMDTVTEHLMAVGMARLGGIGIIHKNMDMESQVNEVLKVKNSGGLRVGAAIGVNEIERAKLLVEAGVDVIVLDSAHGHSLNIIRTLKEIKSKMNIDVIVGNVVTEEATKELIENGADGIKVGIGPGSICTTRIVAGVGVPQITAIEKCSSVASKFGIPIIADGGIRYSGDIGKALAVGASSVMIGSILAGTEESPGEKELIGDTVYKYYRGMGSVGAMKSGSGDRYFQEKRPENKMVPEGIEGRVKYKGEMEGVVYQLVGGLRSCMGYLGSASIEELWKKSSYVEITTSGLRESHVHDVEIVKEVMNYSK'\n",
            " 'SNAMGTKNIGKGLTFEDILLVPNYSEVLPREVSLETKLTKNVSLKIPLISSAMDTVTEHLMAVGMARLGGIGIIHKNMDMESQVNEVLKVKNSGGLRVGAAIGVNEIERAKLLVEAGVDVIVLDSAHGHSLNIIRTLKEIKSKMNIDVIVGNVVTEEATKELIENGADGIKVGIGPGSICTTRIVAGVGVPQITAIEKCSSVASKFGIPIIADGGIRYSGDIGKALAVGASSVMIGSILAGTEESPGEKELIGDTVYKYYRGMGSVGAMKSGSGDRYFQEKRPENKMVPEGIEGRVKYKGEMEGVVYQLVGGLRSCMGYLGSASIEELWKKSSYVEITTSGLRESHVHDVEIVKEVMNYSK'\n",
            " 'SNAMGTKNIGKGLTFEDILLVPNYSEVLPREVSLETKLTKNVSLKIPLISSAMDTVTEHLMAVGMARLGGIGIIHKNMDMESQVNEVLKVKNSGGLRVGAAIGVNEIERAKLLVEAGVDVIVLDSAHGHSLNIIRTLKEIKSKMNIDVIVGNVVTEEATKELIENGADGIKVGIGPGSICTTRIVAGVGVPQITAIEKCSSVASKFGIPIIADGGIRYSGDIGKALAVGASSVMIGSILAGTEESPGEKELIGDTVYKYYRGMGSVGAMKSGSGDRYFQEKRPENKMVPEGIEGRVKYKGEMEGVVYQLVGGLRSCMGYLGSASIEELWKKSSYVEITTSGLRESHVHDVEIVKEVMNYSK'\n",
            " 'SNAMGTKNIGKGLTFEDILLVPNYSEVLPREVSLETKLTKNVSLKIPLISSAMDTVTEHLMAVGMARLGGIGIIHKNMDMESQVNEVLKVKNSGGLRVGAAIGVNEIERAKLLVEAGVDVIVLDSAHGHSLNIIRTLKEIKSKMNIDVIVGNVVTEEATKELIENGADGIKVGIGPGSICTTRIVAGVGVPQITAIEKCSSVASKFGIPIIADGGIRYSGDIGKALAVGASSVMIGSILAGTEESPGEKELIGDTVYKYYRGMGSVGAMKSGSGDRYFQEKRPENKMVPEGIEGRVKYKGEMEGVVYQLVGGLRSCMGYLGSASIEELWKKSSYVEITTSGLRESHVHDVEIVKEVMNYSK'\n",
            " 'SNAMGTKNIGKGLTFEDILLVPNYSEVLPREVSLETKLTKNVSLKIPLISSAMDTVTEHLMAVGMARLGGIGIIHKNMDMESQVNEVLKVKNSGGLRVGAAIGVNEIERAKLLVEAGVDVIVLDSAHGHSLNIIRTLKEIKSKMNIDVIVGNVVTEEATKELIENGADGIKVGIGPGSICTTRIVAGVGVPQITAIEKCSSVASKFGIPIIADGGIRYSGDIGKALAVGASSVMIGSILAGTEESPGEKELIGDTVYKYYRGMGSVGAMKSGSGDRYFQEKRPENKMVPEGIEGRVKYKGEMEGVVYQLVGGLRSCMGYLGSASIEELWKKSSYVEITTSGLRESHVHDVEIVKEVMNYSK'\n",
            " 'SNAMGTKNIGKGLTFEDILLVPNYSEVLPREVSLETKLTKNVSLKIPLISSAMDTVTEHLMAVGMARLGGIGIIHKNMDMESQVNEVLKVKNSGGLRVGAAIGVNEIERAKLLVEAGVDVIVLDSAHGHSLNIIRTLKEIKSKMNIDVIVGNVVTEEATKELIENGADGIKVGIGPGSICTTRIVAGVGVPQITAIEKCSSVASKFGIPIIADGGIRYSGDIGKALAVGASSVMIGSILAGTEESPGEKELIGDTVYKYYRGMGSVGAMKSGSGDRYFQEKRPENKMVPEGIEGRVKYKGEMEGVVYQLVGGLRSCMGYLGSASIEELWKKSSYVEITTSGLRESHVHDVEIVKEVMNYSK'\n",
            " 'SNAMGTKNIGKGLTFEDILLVPNYSEVLPREVSLETKLTKNVSLKIPLISSAMDTVTEHLMAVGMARLGGIGIIHKNMDMESQVNEVLKVKNSGGLRVGAAIGVNEIERAKLLVEAGVDVIVLDSAHGHSLNIIRTLKEIKSKMNIDVIVGNVVTEEATKELIENGADGIKVGIGPGSICTTRIVAGVGVPQITAIEKCSSVASKFGIPIIADGGIRYSGDIGKALAVGASSVMIGSILAGTEESPGEKELIGDTVYKYYRGMGSVGAMKSGSGDRYFQEKRPENKMVPEGIEGRVKYKGEMEGVVYQLVGGLRSCMGYLGSASIEELWKKSSYVEITTSGLRESHVHDVEIVKEVMNYSK'\n",
            " 'SNAMGTKNIGKGLTFEDILLVPNYSEVLPREVSLETKLTKNVSLKIPLISSAMDTVTEHLMAVGMARLGGIGIIHKNMDMESQVNEVLKVKNSGGLRVGAAIGVNEIERAKLLVEAGVDVIVLDSAHGHSLNIIRTLKEIKSKMNIDVIVGNVVTEEATKELIENGADGIKVGIGPGSICTTRIVAGVGVPQITAIEKCSSVASKFGIPIIADGGIRYSGDIGKALAVGASSVMIGSILAGTEESPGEKELIGDTVYKYYRGMGSVGAMKSGSGDRYFQEKRPENKMVPEGIEGRVKYKGEMEGVVYQLVGGLRSCMGYLGSASIEELWKKSSYVEITTSGLRESHVHDVEIVKEVMNYSK'\n",
            " 'SNAMGTKNIGKGLTFEDILLVPNYSEVLPREVSLETKLTKNVSLKIPLISSAMDTVTEHLMAVGMARLGGIGIIHKNMDMESQVNEVLKVKNSGGLRVGAAIGVNEIERAKLLVEAGVDVIVLDSAHGHSLNIIRTLKEIKSKMNIDVIVGNVVTEEATKELIENGADGIKVGIGPGSICTTRIVAGVGVPQITAIEKCSSVASKFGIPIIADGGIRYSGDIGKALAVGASSVMIGSILAGTEESPGEKELIGDTVYKYYRGMGSVGAMKSGSGDRYFQEKRPENKMVPEGIEGRVKYKGEMEGVVYQLVGGLRSCMGYLGSASIEELWKKSSYVEITTSGLRESHVHDVEIVKEVMNYSK'\n",
            " 'SNAMGTKNIGKGLTFEDILLVPNYSEVLPREVSLETKLTKNVSLKIPLISSAMDTVTEHLMAVGMARLGGIGIIHKNMDMESQVNEVLKVKNSGGLRVGAAIGVNEIERAKLLVEAGVDVIVLDSAHGHSLNIIRTLKEIKSKMNIDVIVGNVVTEEATKELIENGADGIKVGIGPGSICTTRIVAGVGVPQITAIEKCSSVASKFGIPIIADGGIRYSGDIGKALAVGASSVMIGSILAGTEESPGEKELIGDTVYKYYRGMGSVGAMKSGSGDRYFQEKRPENKMVPEGIEGRVKYKGEMEGVVYQLVGGLRSCMGYLGSASIEELWKKSSYVEITTSGLRESHVHDVEIVKEVMNYSK'\n",
            " 'SNAMGTKNIGKGLTFEDILLVPNYSEVLPREVSLETKLTKNVSLKIPLISSAMDTVTEHLMAVGMARLGGIGIIHKNMDMESQVNEVLKVKNSGGLRVGAAIGVNEIERAKLLVEAGVDVIVLDSAHGHSLNIIRTLKEIKSKMNIDVIVGNVVTEEATKELIENGADGIKVGIGPGSICTTRIVAGVGVPQITAIEKCSSVASKFGIPIIADGGIRYSGDIGKALAVGASSVMIGSILAGTEESPGEKELIGDTVYKYYRGMGSVGAMKSGSGDRYFQEKRPENKMVPEGIEGRVKYKGEMEGVVYQLVGGLRSCMGYLGSASIEELWKKSSYVEITTSGLRESHVHDVEIVKEVMNYSK'\n",
            " 'SNAMGTKNIGKGLTFEDILLVPNYSEVLPREVSLETKLTKNVSLKIPLISSAMDTVTEHLMAVGMARLGGIGIIHKNMDMESQVNEVLKVKNSGGLRVGAAIGVNEIERAKLLVEAGVDVIVLDSAHGHSLNIIRTLKEIKSKMNIDVIVGNVVTEEATKELIENGADGIKVGIGPGSICTTRIVAGVGVPQITAIEKCSSVASKFGIPIIADGGIRYSGDIGKALAVGASSVMIGSILAGTEESPGEKELIGDTVYKYYRGMGSVGAMKSGSGDRYFQEKRPENKMVPEGIEGRVKYKGEMEGVVYQLVGGLRSCMGYLGSASIEELWKKSSYVEITTSGLRESHVHDVEIVKEVMNYSK'\n",
            " 'SNAMGTKNIGKGLTFEDILLVPNYSEVLPREVSLETKLTKNVSLKIPLISSAMDTVTEHLMAVGMARLGGIGIIHKNMDMESQVNEVLKVKNSGGLRVGAAIGVNEIERAKLLVEAGVDVIVLDSAHGHSLNIIRTLKEIKSKMNIDVIVGNVVTEEATKELIENGADGIKVGIGPGSICTTRIVAGVGVPQITAIEKCSSVASKFGIPIIADGGIRYSGDIGKALAVGASSVMIGSILAGTEESPGEKELIGDTVYKYYRGMGSVGAMKSGSGDRYFQEKRPENKMVPEGIEGRVKYKGEMEGVVYQLVGGLRSCMGYLGSASIEELWKKSSYVEITTSGLRESHVHDVEIVKEVMNYSK'\n",
            " 'SNAMGTKNIGKGLTFEDILLVPNYSEVLPREVSLETKLTKNVSLKIPLISSAMDTVTEHLMAVGMARLGGIGIIHKNMDMESQVNEVLKVKNSGGLRVGAAIGVNEIERAKLLVEAGVDVIVLDSAHGHSLNIIRTLKEIKSKMNIDVIVGNVVTEEATKELIENGADGIKVGIGPGSICTTRIVAGVGVPQITAIEKCSSVASKFGIPIIADGGIRYSGDIGKALAVGASSVMIGSILAGTEESPGEKELIGDTVYKYYRGMGSVGAMKSGSGDRYFQEKRPENKMVPEGIEGRVKYKGEMEGVVYQLVGGLRSCMGYLGSASIEELWKKSSYVEITTSGLRESHVHDVEIVKEVMNYSK'\n",
            " 'SNAMGTKNIGKGLTFEDILLVPNYSEVLPREVSLETKLTKNVSLKIPLISSAMDTVTEHLMAVGMARLGGIGIIHKNMDMESQVNEVLKVKNSGGLRVGAAIGVNEIERAKLLVEAGVDVIVLDSAHGHSLNIIRTLKEIKSKMNIDVIVGNVVTEEATKELIENGADGIKVGIGPGSICTTRIVAGVGVPQITAIEKCSSVASKFGIPIIADGGIRYSGDIGKALAVGASSVMIGSILAGTEESPGEKELIGDTVYKYYRGMGSVGAMKSGSGDRYFQEKRPENKMVPEGIEGRVKYKGEMEGVVYQLVGGLRSCMGYLGSASIEELWKKSSYVEITTSGLRESHVHDVEIVKEVMNYSK'\n",
            " 'SNAMGTKNIGKGLTFEDILLVPNYSEVLPREVSLETKLTKNVSLKIPLISSAMDTVTEHLMAVGMARLGGIGIIHKNMDMESQVNEVLKVKNSGGLRVGAAIGVNEIERAKLLVEAGVDVIVLDSAHGHSLNIIRTLKEIKSKMNIDVIVGNVVTEEATKELIENGADGIKVGIGPGSICTTRIVAGVGVPQITAIEKCSSVASKFGIPIIADGGIRYSGDIGKALAVGASSVMIGSILAGTEESPGEKELIGDTVYKYYRGMGSVGAMKSGSGDRYFQEKRPENKMVPEGIEGRVKYKGEMEGVVYQLVGGLRSCMGYLGSASIEELWKKSSYVEITTSGLRESHVHDVEIVKEVMNYSK'\n",
            " 'SNAMGTKNIGKGLTFEDILLVPNYSEVLPREVSLETKLTKNVSLKIPLISSAMDTVTEHLMAVGMARLGGIGIIHKNMDMESQVNEVLKVKNSGGLRVGAAIGVNEIERAKLLVEAGVDVIVLDSAHGHSLNIIRTLKEIKSKMNIDVIVGNVVTEEATKELIENGADGIKVGIGPGSICTTRIVAGVGVPQITAIEKCSSVASKFGIPIIADGGIRYSGDIGKALAVGASSVMIGSILAGTEESPGEKELIGDTVYKYYRGMGSVGAMKSGSGDRYFQEKRPENKMVPEGIEGRVKYKGEMEGVVYQLVGGLRSCMGYLGSASIEELWKKSSYVEITTSGLRESHVHDVEIVKEVMNYSK'\n",
            " 'SNAMGTKNIGKGLTFEDILLVPNYSEVLPREVSLETKLTKNVSLKIPLISSAMDTVTEHLMAVGMARLGGIGIIHKNMDMESQVNEVLKVKNSGGLRVGAAIGVNEIERAKLLVEAGVDVIVLDSAHGHSLNIIRTLKEIKSKMNIDVIVGNVVTEEATKELIENGADGIKVGIGPGSICTTRIVAGVGVPQITAIEKCSSVASKFGIPIIADGGIRYSGDIGKALAVGASSVMIGSILAGTEESPGEKELIGDTVYKYYRGMGSVGAMKSGSGDRYFQEKRPENKMVPEGIEGRVKYKGEMEGVVYQLVGGLRSCMGYLGSASIEELWKKSSYVEITTSGLRESHVHDVEIVKEVMNYSK'\n",
            " 'SNAMGTKNIGKGLTFEDILLVPNYSEVLPREVSLETKLTKNVSLKIPLISSAMDTVTEHLMAVGMARLGGIGIIHKNMDMESQVNEVLKVKNSGGLRVGAAIGVNEIERAKLLVEAGVDVIVLDSAHGHSLNIIRTLKEIKSKMNIDVIVGNVVTEEATKELIENGADGIKVGIGPGSICTTRIVAGVGVPQITAIEKCSSVASKFGIPIIADGGIRYSGDIGKALAVGASSVMIGSILAGTEESPGEKELIGDTVYKYYRGMGSVGAMKSGSGDRYFQEKRPENKMVPEGIEGRVKYKGEMEGVVYQLVGGLRSCMGYLGSASIEELWKKSSYVEITTSGLRESHVHDVEIVKEVMNYSK'\n",
            " 'SNAMGTKNIGKGLTFEDILLVPNYSEVLPREVSLETKLTKNVSLKIPLISSAMDTVTEHLMAVGMARLGGIGIIHKNMDMESQVNEVLKVKNSGGLRVGAAIGVNEIERAKLLVEAGVDVIVLDSAHGHSLNIIRTLKEIKSKMNIDVIVGNVVTEEATKELIENGADGIKVGIGPGSICTTRIVAGVGVPQITAIEKCSSVASKFGIPIIADGGIRYSGDIGKALAVGASSVMIGSILAGTEESPGEKELIGDTVYKYYRGMGSVGAMKSGSGDRYFQEKRPENKMVPEGIEGRVKYKGEMEGVVYQLVGGLRSCMGYLGSASIEELWKKSSYVEITTSGLRESHVHDVEIVKEVMNYSK'\n",
            " 'SNAMGTKNIGKGLTFEDILLVPNYSEVLPREVSLETKLTKNVSLKIPLISSAMDTVTEHLMAVGMARLGGIGIIHKNMDMESQVNEVLKVKNSGGLRVGAAIGVNEIERAKLLVEAGVDVIVLDSAHGHSLNIIRTLKEIKSKMNIDVIVGNVVTEEATKELIENGADGIKVGIGPGSICTTRIVAGVGVPQITAIEKCSSVASKFGIPIIADGGIRYSGDIGKALAVGASSVMIGSILAGTEESPGEKELIGDTVYKYYRGMGSVGAMKSGSGDRYFQEKRPENKMVPEGIEGRVKYKGEMEGVVYQLVGGLRSCMGYLGSASIEELWKKSSYVEITTSGLRESHVHDVEIVKEVMNYSK'\n",
            " 'SNAMGTKNIGKGLTFEDILLVPNYSEVLPREVSLETKLTKNVSLKIPLISSAMDTVTEHLMAVGMARLGGIGIIHKNMDMESQVNEVLKVKNSGGLRVGAAIGVNEIERAKLLVEAGVDVIVLDSAHGHSLNIIRTLKEIKSKMNIDVIVGNVVTEEATKELIENGADGIKVGIGPGSICTTRIVAGVGVPQITAIEKCSSVASKFGIPIIADGGIRYSGDIGKALAVGASSVMIGSILAGTEESPGEKELIGDTVYKYYRGMGSVGAMKSGSGDRYFQEKRPENKMVPEGIEGRVKYKGEMEGVVYQLVGGLRSCMGYLGSASIEELWKKSSYVEITTSGLRESHVHDVEIVKEVMNYSK'\n",
            " 'SNAMGTKNIGKGLTFEDILLVPNYSEVLPREVSLETKLTKNVSLKIPLISSAMDTVTEHLMAVGMARLGGIGIIHKNMDMESQVNEVLKVKNSGGLRVGAAIGVNEIERAKLLVEAGVDVIVLDSAHGHSLNIIRTLKEIKSKMNIDVIVGNVVTEEATKELIENGADGIKVGIGPGSICTTRIVAGVGVPQITAIEKCSSVASKFGIPIIADGGIRYSGDIGKALAVGASSVMIGSILAGTEESPGEKELIGDTVYKYYRGMGSVGAMKSGSGDRYFQEKRPENKMVPEGIEGRVKYKGEMEGVVYQLVGGLRSCMGYLGSASIEELWKKSSYVEITTSGLRESHVHDVEIVKEVMNYSK'\n",
            " 'SNAMGTKNIGKGLTFEDILLVPNYSEVLPREVSLETKLTKNVSLKIPLISSAMDTVTEHLMAVGMARLGGIGIIHKNMDMESQVNEVLKVKNSGGLRVGAAIGVNEIERAKLLVEAGVDVIVLDSAHGHSLNIIRTLKEIKSKMNIDVIVGNVVTEEATKELIENGADGIKVGIGPGSICTTRIVAGVGVPQITAIEKCSSVASKFGIPIIADGGIRYSGDIGKALAVGASSVMIGSILAGTEESPGEKELIGDTVYKYYRGMGSVGAMKSGSGDRYFQEKRPENKMVPEGIEGRVKYKGEMEGVVYQLVGGLRSCMGYLGSASIEELWKKSSYVEITTSGLRESHVHDVEIVKEVMNYSK'\n",
            " 'SNAMGTKNIGKGLTFEDILLVPNYSEVLPREVSLETKLTKNVSLKIPLISSAMDTVTEHLMAVGMARLGGIGIIHKNMDMESQVNEVLKVKNSGGLRVGAAIGVNEIERAKLLVEAGVDVIVLDSAHGHSLNIIRTLKEIKSKMNIDVIVGNVVTEEATKELIENGADGIKVGIGPGSICTTRIVAGVGVPQITAIEKCSSVASKFGIPIIADGGIRYSGDIGKALAVGASSVMIGSILAGTEESPGEKELIGDTVYKYYRGMGSVGAMKSGSGDRYFQEKRPENKMVPEGIEGRVKYKGEMEGVVYQLVGGLRSCMGYLGSASIEELWKKSSYVEITTSGLRESHVHDVEIVKEVMNYSK'\n",
            " 'SNAMGTKNIGKGLTFEDILLVPNYSEVLPREVSLETKLTKNVSLKIPLISSAMDTVTEHLMAVGMARLGGIGIIHKNMDMESQVNEVLKVKNSGGLRVGAAIGVNEIERAKLLVEAGVDVIVLDSAHGHSLNIIRTLKEIKSKMNIDVIVGNVVTEEATKELIENGADGIKVGIGPGSICTTRIVAGVGVPQITAIEKCSSVASKFGIPIIADGGIRYSGDIGKALAVGASSVMIGSILAGTEESPGEKELIGDTVYKYYRGMGSVGAMKSGSGDRYFQEKRPENKMVPEGIEGRVKYKGEMEGVVYQLVGGLRSCMGYLGSASIEELWKKSSYVEITTSGLRESHVHDVEIVKEVMNYSK'\n",
            " 'SNAMGTKNIGKGLTFEDILLVPNYSEVLPREVSLETKLTKNVSLKIPLISSAMDTVTEHLMAVGMARLGGIGIIHKNMDMESQVNEVLKVKNSGGLRVGAAIGVNEIERAKLLVEAGVDVIVLDSAHGHSLNIIRTLKEIKSKMNIDVIVGNVVTEEATKELIENGADGIKVGIGPGSICTTRIVAGVGVPQITAIEKCSSVASKFGIPIIADGGIRYSGDIGKALAVGASSVMIGSILAGTEESPGEKELIGDTVYKYYRGMGSVGAMKSGSGDRYFQEKRPENKMVPEGIEGRVKYKGEMEGVVYQLVGGLRSCMGYLGSASIEELWKKSSYVEITTSGLRESHVHDVEIVKEVMNYSK'\n",
            " 'SNAMGTKNIGKGLTFEDILLVPNYSEVLPREVSLETKLTKNVSLKIPLISSAMDTVTEHLMAVGMARLGGIGIIHKNMDMESQVNEVLKVKNSGGLRVGAAIGVNEIERAKLLVEAGVDVIVLDSAHGHSLNIIRTLKEIKSKMNIDVIVGNVVTEEATKELIENGADGIKVGIGPGSICTTRIVAGVGVPQITAIEKCSSVASKFGIPIIADGGIRYSGDIGKALAVGASSVMIGSILAGTEESPGEKELIGDTVYKYYRGMGSVGAMKSGSGDRYFQEKRPENKMVPEGIEGRVKYKGEMEGVVYQLVGGLRSCMGYLGSASIEELWKKSSYVEITTSGLRESHVHDVEIVKEVMNYSK'\n",
            " 'SNAMGTKNIGKGLTFEDILLVPNYSEVLPREVSLETKLTKNVSLKIPLISSAMDTVTEHLMAVGMARLGGIGIIHKNMDMESQVNEVLKVKNSGGLRVGAAIGVNEIERAKLLVEAGVDVIVLDSAHGHSLNIIRTLKEIKSKMNIDVIVGNVVTEEATKELIENGADGIKVGIGPGSICTTRIVAGVGVPQITAIEKCSSVASKFGIPIIADGGIRYSGDIGKALAVGASSVMIGSILAGTEESPGEKELIGDTVYKYYRGMGSVGAMKSGSGDRYFQEKRPENKMVPEGIEGRVKYKGEMEGVVYQLVGGLRSCMGYLGSASIEELWKKSSYVEITTSGLRESHVHDVEIVKEVMNYSK'\n",
            " 'SNAMGTKNIGKGLTFEDILLVPNYSEVLPREVSLETKLTKNVSLKIPLISSAMDTVTEHLMAVGMARLGGIGIIHKNMDMESQVNEVLKVKNSGGLRVGAAIGVNEIERAKLLVEAGVDVIVLDSAHGHSLNIIRTLKEIKSKMNIDVIVGNVVTEEATKELIENGADGIKVGIGPGSICTTRIVAGVGVPQITAIEKCSSVASKFGIPIIADGGIRYSGDIGKALAVGASSVMIGSILAGTEESPGEKELIGDTVYKYYRGMGSVGAMKSGSGDRYFQEKRPENKMVPEGIEGRVKYKGEMEGVVYQLVGGLRSCMGYLGSASIEELWKKSSYVEITTSGLRESHVHDVEIVKEVMNYSK'\n",
            " 'SNAMGTKNIGKGLTFEDILLVPNYSEVLPREVSLETKLTKNVSLKIPLISSAMDTVTEHLMAVGMARLGGIGIIHKNMDMESQVNEVLKVKNSGGLRVGAAIGVNEIERAKLLVEAGVDVIVLDSAHGHSLNIIRTLKEIKSKMNIDVIVGNVVTEEATKELIENGADGIKVGIGPGSICTTRIVAGVGVPQITAIEKCSSVASKFGIPIIADGGIRYSGDIGKALAVGASSVMIGSILAGTEESPGEKELIGDTVYKYYRGMGSVGAMKSGSGDRYFQEKRPENKMVPEGIEGRVKYKGEMEGVVYQLVGGLRSCMGYLGSASIEELWKKSSYVEITTSGLRESHVHDVEIVKEVMNYSK'\n",
            " 'SNAMGTKNIGKGLTFEDILLVPNYSEVLPREVSLETKLTKNVSLKIPLISSAMDTVTEHLMAVGMARLGGIGIIHKNMDMESQVNEVLKVKNSGGLRVGAAIGVNEIERAKLLVEAGVDVIVLDSAHGHSLNIIRTLKEIKSKMNIDVIVGNVVTEEATKELIENGADGIKVGIGPGSICTTRIVAGVGVPQITAIEKCSSVASKFGIPIIADGGIRYSGDIGKALAVGASSVMIGSILAGTEESPGEKELIGDTVYKYYRGMGSVGAMKSGSGDRYFQEKRPENKMVPEGIEGRVKYKGEMEGVVYQLVGGLRSCMGYLGSASIEELWKKSSYVEITTSGLRESHVHDVEIVKEVMNYSK'\n",
            " 'SNAMGTKNIGKGLTFEDILLVPNYSEVLPREVSLETKLTKNVSLKIPLISSAMDTVTEHLMAVGMARLGGIGIIHKNMDMESQVNEVLKVKNSGGLRVGAAIGVNEIERAKLLVEAGVDVIVLDSAHGHSLNIIRTLKEIKSKMNIDVIVGNVVTEEATKELIENGADGIKVGIGPGSICTTRIVAGVGVPQITAIEKCSSVASKFGIPIIADGGIRYSGDIGKALAVGASSVMIGSILAGTEESPGEKELIGDTVYKYYRGMGSVGAMKSGSGDRYFQEKRPENKMVPEGIEGRVKYKGEMEGVVYQLVGGLRSCMGYLGSASIEELWKKSSYVEITTSGLRESHVHDVEIVKEVMNYSK'\n",
            " 'SNAMGTKNIGKGLTFEDILLVPNYSEVLPREVSLETKLTKNVSLKIPLISSAMDTVTEHLMAVGMARLGGIGIIHKNMDMESQVNEVLKVKNSGGLRVGAAIGVNEIERAKLLVEAGVDVIVLDSAHGHSLNIIRTLKEIKSKMNIDVIVGNVVTEEATKELIENGADGIKVGIGPGSICTTRIVAGVGVPQITAIEKCSSVASKFGIPIIADGGIRYSGDIGKALAVGASSVMIGSILAGTEESPGEKELIGDTVYKYYRGMGSVGAMKSGSGDRYFQEKRPENKMVPEGIEGRVKYKGEMEGVVYQLVGGLRSCMGYLGSASIEELWKKSSYVEITTSGLRESHVHDVEIVKEVMNYSK'\n",
            " 'SNAMGTKNIGKGLTFEDILLVPNYSEVLPREVSLETKLTKNVSLKIPLISSAMDTVTEHLMAVGMARLGGIGIIHKNMDMESQVNEVLKVKNSGGLRVGAAIGVNEIERAKLLVEAGVDVIVLDSAHGHSLNIIRTLKEIKSKMNIDVIVGNVVTEEATKELIENGADGIKVGIGPGSICTTRIVAGVGVPQITAIEKCSSVASKFGIPIIADGGIRYSGDIGKALAVGASSVMIGSILAGTEESPGEKELIGDTVYKYYRGMGSVGAMKSGSGDRYFQEKRPENKMVPEGIEGRVKYKGEMEGVVYQLVGGLRSCMGYLGSASIEELWKKSSYVEITTSGLRESHVHDVEIVKEVMNYSK'\n",
            " 'SNAMGTKNIGKGLTFEDILLVPNYSEVLPREVSLETKLTKNVSLKIPLISSAMDTVTEHLMAVGMARLGGIGIIHKNMDMESQVNEVLKVKNSGGLRVGAAIGVNEIERAKLLVEAGVDVIVLDSAHGHSLNIIRTLKEIKSKMNIDVIVGNVVTEEATKELIENGADGIKVGIGPGSICTTRIVAGVGVPQITAIEKCSSVASKFGIPIIADGGIRYSGDIGKALAVGASSVMIGSILAGTEESPGEKELIGDTVYKYYRGMGSVGAMKSGSGDRYFQEKRPENKMVPEGIEGRVKYKGEMEGVVYQLVGGLRSCMGYLGSASIEELWKKSSYVEITTSGLRESHVHDVEIVKEVMNYSK'\n",
            " 'SNAMGTKNIGKGLTFEDILLVPNYSEVLPREVSLETKLTKNVSLKIPLISSAMDTVTEHLMAVGMARLGGIGIIHKNMDMESQVNEVLKVKNSGGLRVGAAIGVNEIERAKLLVEAGVDVIVLDSAHGHSLNIIRTLKEIKSKMNIDVIVGNVVTEEATKELIENGADGIKVGIGPGSICTTRIVAGVGVPQITAIEKCSSVASKFGIPIIADGGIRYSGDIGKALAVGASSVMIGSILAGTEESPGEKELIGDTVYKYYRGMGSVGAMKSGSGDRYFQEKRPENKMVPEGIEGRVKYKGEMEGVVYQLVGGLRSCMGYLGSASIEELWKKSSYVEITTSGLRESHVHDVEIVKEVMNYSK'\n",
            " 'SNAMGTKNIGKGLTFEDILLVPNYSEVLPREVSLETKLTKNVSLKIPLISSAMDTVTEHLMAVGMARLGGIGIIHKNMDMESQVNEVLKVKNSGGLRVGAAIGVNEIERAKLLVEAGVDVIVLDSAHGHSLNIIRTLKEIKSKMNIDVIVGNVVTEEATKELIENGADGIKVGIGPGSICTTRIVAGVGVPQITAIEKCSSVASKFGIPIIADGGIRYSGDIGKALAVGASSVMIGSILAGTEESPGEKELIGDTVYKYYRGMGSVGAMKSGSGDRYFQEKRPENKMVPEGIEGRVKYKGEMEGVVYQLVGGLRSCMGYLGSASIEELWKKSSYVEITTSGLRESHVHDVEIVKEVMNYSK'\n",
            " 'SNAMGTKNIGKGLTFEDILLVPNYSEVLPREVSLETKLTKNVSLKIPLISSAMDTVTEHLMAVGMARLGGIGIIHKNMDMESQVNEVLKVKNSGGLRVGAAIGVNEIERAKLLVEAGVDVIVLDSAHGHSLNIIRTLKEIKSKMNIDVIVGNVVTEEATKELIENGADGIKVGIGPGSICTTRIVAGVGVPQITAIEKCSSVASKFGIPIIADGGIRYSGDIGKALAVGASSVMIGSILAGTEESPGEKELIGDTVYKYYRGMGSVGAMKSGSGDRYFQEKRPENKMVPEGIEGRVKYKGEMEGVVYQLVGGLRSCMGYLGSASIEELWKKSSYVEITTSGLRESHVHDVEIVKEVMNYSK'\n",
            " 'SNAMGTKNIGKGLTFEDILLVPNYSEVLPREVSLETKLTKNVSLKIPLISSAMDTVTEHLMAVGMARLGGIGIIHKNMDMESQVNEVLKVKNSGGLRVGAAIGVNEIERAKLLVEAGVDVIVLDSAHGHSLNIIRTLKEIKSKMNIDVIVGNVVTEEATKELIENGADGIKVGIGPGSICTTRIVAGVGVPQITAIEKCSSVASKFGIPIIADGGIRYSGDIGKALAVGASSVMIGSILAGTEESPGEKELIGDTVYKYYRGMGSVGAMKSGSGDRYFQEKRPENKMVPEGIEGRVKYKGEMEGVVYQLVGGLRSCMGYLGSASIEELWKKSSYVEITTSGLRESHVHDVEIVKEVMNYSK'\n",
            " 'SNAMGTKNIGKGLTFEDILLVPNYSEVLPREVSLETKLTKNVSLKIPLISSAMDTVTEHLMAVGMARLGGIGIIHKNMDMESQVNEVLKVKNSGGLRVGAAIGVNEIERAKLLVEAGVDVIVLDSAHGHSLNIIRTLKEIKSKMNIDVIVGNVVTEEATKELIENGADGIKVGIGPGSICTTRIVAGVGVPQITAIEKCSSVASKFGIPIIADGGIRYSGDIGKALAVGASSVMIGSILAGTEESPGEKELIGDTVYKYYRGMGSVGAMKSGSGDRYFQEKRPENKMVPEGIEGRVKYKGEMEGVVYQLVGGLRSCMGYLGSASIEELWKKSSYVEITTSGLRESHVHDVEIVKEVMNYSK'\n",
            " 'SNAMGTKNIGKGLTFEDILLVPNYSEVLPREVSLETKLTKNVSLKIPLISSAMDTVTEHLMAVGMARLGGIGIIHKNMDMESQVNEVLKVKNSGGLRVGAAIGVNEIERAKLLVEAGVDVIVLDSAHGHSLNIIRTLKEIKSKMNIDVIVGNVVTEEATKELIENGADGIKVGIGPGSICTTRIVAGVGVPQITAIEKCSSVASKFGIPIIADGGIRYSGDIGKALAVGASSVMIGSILAGTEESPGEKELIGDTVYKYYRGMGSVGAMKSGSGDRYFQEKRPENKMVPEGIEGRVKYKGEMEGVVYQLVGGLRSCMGYLGSASIEELWKKSSYVEITTSGLRESHVHDVEIVKEVMNYSK'\n",
            " 'SNAMGTKNIGKGLTFEDILLVPNYSEVLPREVSLETKLTKNVSLKIPLISSAMDTVTEHLMAVGMARLGGIGIIHKNMDMESQVNEVLKVKNSGGLRVGAAIGVNEIERAKLLVEAGVDVIVLDSAHGHSLNIIRTLKEIKSKMNIDVIVGNVVTEEATKELIENGADGIKVGIGPGSICTTRIVAGVGVPQITAIEKCSSVASKFGIPIIADGGIRYSGDIGKALAVGASSVMIGSILAGTEESPGEKELIGDTVYKYYRGMGSVGAMKSGSGDRYFQEKRPENKMVPEGIEGRVKYKGEMEGVVYQLVGGLRSCMGYLGSASIEELWKKSSYVEITTSGLRESHVHDVEIVKEVMNYSK'\n",
            " 'SNAMGTKNIGKGLTFEDILLVPNYSEVLPREVSLETKLTKNVSLKIPLISSAMDTVTEHLMAVGMARLGGIGIIHKNMDMESQVNEVLKVKNSGGLRVGAAIGVNEIERAKLLVEAGVDVIVLDSAHGHSLNIIRTLKEIKSKMNIDVIVGNVVTEEATKELIENGADGIKVGIGPGSICTTRIVAGVGVPQITAIEKCSSVASKFGIPIIADGGIRYSGDIGKALAVGASSVMIGSILAGTEESPGEKELIGDTVYKYYRGMGSVGAMKSGSGDRYFQEKRPENKMVPEGIEGRVKYKGEMEGVVYQLVGGLRSCMGYLGSASIEELWKKSSYVEITTSGLRESHVHDVEIVKEVMNYSK'\n",
            " 'SNAMGTKNIGKGLTFEDILLVPNYSEVLPREVSLETKLTKNVSLKIPLISSAMDTVTEHLMAVGMARLGGIGIIHKNMDMESQVNEVLKVKNSGGLRVGAAIGVNEIERAKLLVEAGVDVIVLDSAHGHSLNIIRTLKEIKSKMNIDVIVGNVVTEEATKELIENGADGIKVGIGPGSICTTRIVAGVGVPQITAIEKCSSVASKFGIPIIADGGIRYSGDIGKALAVGASSVMIGSILAGTEESPGEKELIGDTVYKYYRGMGSVGAMKSGSGDRYFQEKRPENKMVPEGIEGRVKYKGEMEGVVYQLVGGLRSCMGYLGSASIEELWKKSSYVEITTSGLRESHVHDVEIVKEVMNYSK'\n",
            " 'SNAMGTKNIGKGLTFEDILLVPNYSEVLPREVSLETKLTKNVSLKIPLISSAMDTVTEHLMAVGMARLGGIGIIHKNMDMESQVNEVLKVKNSGGLRVGAAIGVNEIERAKLLVEAGVDVIVLDSAHGHSLNIIRTLKEIKSKMNIDVIVGNVVTEEATKELIENGADGIKVGIGPGSICTTRIVAGVGVPQITAIEKCSSVASKFGIPIIADGGIRYSGDIGKALAVGASSVMIGSILAGTEESPGEKELIGDTVYKYYRGMGSVGAMKSGSGDRYFQEKRPENKMVPEGIEGRVKYKGEMEGVVYQLVGGLRSCMGYLGSASIEELWKKSSYVEITTSGLRESHVHDVEIVKEVMNYSK'\n",
            " 'SNAMGTKNIGKGLTFEDILLVPNYSEVLPREVSLETKLTKNVSLKIPLISSAMDTVTEHLMAVGMARLGGIGIIHKNMDMESQVNEVLKVKNSGGLRVGAAIGVNEIERAKLLVEAGVDVIVLDSAHGHSLNIIRTLKEIKSKMNIDVIVGNVVTEEATKELIENGADGIKVGIGPGSICTTRIVAGVGVPQITAIEKCSSVASKFGIPIIADGGIRYSGDIGKALAVGASSVMIGSILAGTEESPGEKELIGDTVYKYYRGMGSVGAMKSGSGDRYFQEKRPENKMVPEGIEGRVKYKGEMEGVVYQLVGGLRSCMGYLGSASIEELWKKSSYVEITTSGLRESHVHDVEIVKEVMNYSK'\n",
            " 'SNAMGTKNIGKGLTFEDILLVPNYSEVLPREVSLETKLTKNVSLKIPLISSAMDTVTEHLMAVGMARLGGIGIIHKNMDMESQVNEVLKVKNSGGLRVGAAIGVNEIERAKLLVEAGVDVIVLDSAHGHSLNIIRTLKEIKSKMNIDVIVGNVVTEEATKELIENGADGIKVGIGPGSICTTRIVAGVGVPQITAIEKCSSVASKFGIPIIADGGIRYSGDIGKALAVGASSVMIGSILAGTEESPGEKELIGDTVYKYYRGMGSVGAMKSGSGDRYFQEKRPENKMVPEGIEGRVKYKGEMEGVVYQLVGGLRSCMGYLGSASIEELWKKSSYVEITTSGLRESHVHDVEIVKEVMNYSK'\n",
            " 'SNAMGTKNIGKGLTFEDILLVPNYSEVLPREVSLETKLTKNVSLKIPLISSAMDTVTEHLMAVGMARLGGIGIIHKNMDMESQVNEVLKVKNSGGLRVGAAIGVNEIERAKLLVEAGVDVIVLDSAHGHSLNIIRTLKEIKSKMNIDVIVGNVVTEEATKELIENGADGIKVGIGPGSICTTRIVAGVGVPQITAIEKCSSVASKFGIPIIADGGIRYSGDIGKALAVGASSVMIGSILAGTEESPGEKELIGDTVYKYYRGMGSVGAMKSGSGDRYFQEKRPENKMVPEGIEGRVKYKGEMEGVVYQLVGGLRSCMGYLGSASIEELWKKSSYVEITTSGLRESHVHDVEIVKEVMNYSK'\n",
            " 'SNAMGTKNIGKGLTFEDILLVPNYSEVLPREVSLETKLTKNVSLKIPLISSAMDTVTEHLMAVGMARLGGIGIIHKNMDMESQVNEVLKVKNSGGLRVGAAIGVNEIERAKLLVEAGVDVIVLDSAHGHSLNIIRTLKEIKSKMNIDVIVGNVVTEEATKELIENGADGIKVGIGPGSICTTRIVAGVGVPQITAIEKCSSVASKFGIPIIADGGIRYSGDIGKALAVGASSVMIGSILAGTEESPGEKELIGDTVYKYYRGMGSVGAMKSGSGDRYFQEKRPENKMVPEGIEGRVKYKGEMEGVVYQLVGGLRSCMGYLGSASIEELWKKSSYVEITTSGLRESHVHDVEIVKEVMNYSK'\n",
            " 'SNAMGTKNIGKGLTFEDILLVPNYSEVLPREVSLETKLTKNVSLKIPLISSAMDTVTEHLMAVGMARLGGIGIIHKNMDMESQVNEVLKVKNSGGLRVGAAIGVNEIERAKLLVEAGVDVIVLDSAHGHSLNIIRTLKEIKSKMNIDVIVGNVVTEEATKELIENGADGIKVGIGPGSICTTRIVAGVGVPQITAIEKCSSVASKFGIPIIADGGIRYSGDIGKALAVGASSVMIGSILAGTEESPGEKELIGDTVYKYYRGMGSVGAMKSGSGDRYFQEKRPENKMVPEGIEGRVKYKGEMEGVVYQLVGGLRSCMGYLGSASIEELWKKSSYVEITTSGLRESHVHDVEIVKEVMNYSK'\n",
            " 'SNAMGTKNIGKGLTFEDILLVPNYSEVLPREVSLETKLTKNVSLKIPLISSAMDTVTEHLMAVGMARLGGIGIIHKNMDMESQVNEVLKVKNSGGLRVGAAIGVNEIERAKLLVEAGVDVIVLDSAHGHSLNIIRTLKEIKSKMNIDVIVGNVVTEEATKELIENGADGIKVGIGPGSICTTRIVAGVGVPQITAIEKCSSVASKFGIPIIADGGIRYSGDIGKALAVGASSVMIGSILAGTEESPGEKELIGDTVYKYYRGMGSVGAMKSGSGDRYFQEKRPENKMVPEGIEGRVKYKGEMEGVVYQLVGGLRSCMGYLGSASIEELWKKSSYVEITTSGLRESHVHDVEIVKEVMNYSK'\n",
            " 'SNAMGTKNIGKGLTFEDILLVPNYSEVLPREVSLETKLTKNVSLKIPLISSAMDTVTEHLMAVGMARLGGIGIIHKNMDMESQVNEVLKVKNSGGLRVGAAIGVNEIERAKLLVEAGVDVIVLDSAHGHSLNIIRTLKEIKSKMNIDVIVGNVVTEEATKELIENGADGIKVGIGPGSICTTRIVAGVGVPQITAIEKCSSVASKFGIPIIADGGIRYSGDIGKALAVGASSVMIGSILAGTEESPGEKELIGDTVYKYYRGMGSVGAMKSGSGDRYFQEKRPENKMVPEGIEGRVKYKGEMEGVVYQLVGGLRSCMGYLGSASIEELWKKSSYVEITTSGLRESHVHDVEIVKEVMNYSK'\n",
            " 'SNAMGTKNIGKGLTFEDILLVPNYSEVLPREVSLETKLTKNVSLKIPLISSAMDTVTEHLMAVGMARLGGIGIIHKNMDMESQVNEVLKVKNSGGLRVGAAIGVNEIERAKLLVEAGVDVIVLDSAHGHSLNIIRTLKEIKSKMNIDVIVGNVVTEEATKELIENGADGIKVGIGPGSICTTRIVAGVGVPQITAIEKCSSVASKFGIPIIADGGIRYSGDIGKALAVGASSVMIGSILAGTEESPGEKELIGDTVYKYYRGMGSVGAMKSGSGDRYFQEKRPENKMVPEGIEGRVKYKGEMEGVVYQLVGGLRSCMGYLGSASIEELWKKSSYVEITTSGLRESHVHDVEIVKEVMNYSK'\n",
            " 'SNAMGTKNIGKGLTFEDILLVPNYSEVLPREVSLETKLTKNVSLKIPLISSAMDTVTEHLMAVGMARLGGIGIIHKNMDMESQVNEVLKVKNSGGLRVGAAIGVNEIERAKLLVEAGVDVIVLDSAHGHSLNIIRTLKEIKSKMNIDVIVGNVVTEEATKELIENGADGIKVGIGPGSICTTRIVAGVGVPQITAIEKCSSVASKFGIPIIADGGIRYSGDIGKALAVGASSVMIGSILAGTEESPGEKELIGDTVYKYYRGMGSVGAMKSGSGDRYFQEKRPENKMVPEGIEGRVKYKGEMEGVVYQLVGGLRSCMGYLGSASIEELWKKSSYVEITTSGLRESHVHDVEIVKEVMNYSK'\n",
            " 'SNAMGTKNIGKGLTFEDILLVPNYSEVLPREVSLETKLTKNVSLKIPLISSAMDTVTEHLMAVGMARLGGIGIIHKNMDMESQVNEVLKVKNSGGLRVGAAIGVNEIERAKLLVEAGVDVIVLDSAHGHSLNIIRTLKEIKSKMNIDVIVGNVVTEEATKELIENGADGIKVGIGPGSICTTRIVAGVGVPQITAIEKCSSVASKFGIPIIADGGIRYSGDIGKALAVGASSVMIGSILAGTEESPGEKELIGDTVYKYYRGMGSVGAMKSGSGDRYFQEKRPENKMVPEGIEGRVKYKGEMEGVVYQLVGGLRSCMGYLGSASIEELWKKSSYVEITTSGLRESHVHDVEIVKEVMNYSK'\n",
            " 'SNAMGTKNIGKGLTFEDILLVPNYSEVLPREVSLETKLTKNVSLKIPLISSAMDTVTEHLMAVGMARLGGIGIIHKNMDMESQVNEVLKVKNSGGLRVGAAIGVNEIERAKLLVEAGVDVIVLDSAHGHSLNIIRTLKEIKSKMNIDVIVGNVVTEEATKELIENGADGIKVGIGPGSICTTRIVAGVGVPQITAIEKCSSVASKFGIPIIADGGIRYSGDIGKALAVGASSVMIGSILAGTEESPGEKELIGDTVYKYYRGMGSVGAMKSGSGDRYFQEKRPENKMVPEGIEGRVKYKGEMEGVVYQLVGGLRSCMGYLGSASIEELWKKSSYVEITTSGLRESHVHDVEIVKEVMNYSK'\n",
            " 'SNAMGTKNIGKGLTFEDILLVPNYSEVLPREVSLETKLTKNVSLKIPLISSAMDTVTEHLMAVGMARLGGIGIIHKNMDMESQVNEVLKVKNSGGLRVGAAIGVNEIERAKLLVEAGVDVIVLDSAHGHSLNIIRTLKEIKSKMNIDVIVGNVVTEEATKELIENGADGIKVGIGPGSICTTRIVAGVGVPQITAIEKCSSVASKFGIPIIADGGIRYSGDIGKALAVGASSVMIGSILAGTEESPGEKELIGDTVYKYYRGMGSVGAMKSGSGDRYFQEKRPENKMVPEGIEGRVKYKGEMEGVVYQLVGGLRSCMGYLGSASIEELWKKSSYVEITTSGLRESHVHDVEIVKEVMNYSK'\n",
            " 'SNAMGTKNIGKGLTFEDILLVPNYSEVLPREVSLETKLTKNVSLKIPLISSAMDTVTEHLMAVGMARLGGIGIIHKNMDMESQVNEVLKVKNSGGLRVGAAIGVNEIERAKLLVEAGVDVIVLDSAHGHSLNIIRTLKEIKSKMNIDVIVGNVVTEEATKELIENGADGIKVGIGPGSICTTRIVAGVGVPQITAIEKCSSVASKFGIPIIADGGIRYSGDIGKALAVGASSVMIGSILAGTEESPGEKELIGDTVYKYYRGMGSVGAMKSGSGDRYFQEKRPENKMVPEGIEGRVKYKGEMEGVVYQLVGGLRSCMGYLGSASIEELWKKSSYVEITTSGLRESHVHDVEIVKEVMNYSK'\n",
            " 'SNAMGTKNIGKGLTFEDILLVPNYSEVLPREVSLETKLTKNVSLKIPLISSAMDTVTEHLMAVGMARLGGIGIIHKNMDMESQVNEVLKVKNSGGLRVGAAIGVNEIERAKLLVEAGVDVIVLDSAHGHSLNIIRTLKEIKSKMNIDVIVGNVVTEEATKELIENGADGIKVGIGPGSICTTRIVAGVGVPQITAIEKCSSVASKFGIPIIADGGIRYSGDIGKALAVGASSVMIGSILAGTEESPGEKELIGDTVYKYYRGMGSVGAMKSGSGDRYFQEKRPENKMVPEGIEGRVKYKGEMEGVVYQLVGGLRSCMGYLGSASIEELWKKSSYVEITTSGLRESHVHDVEIVKEVMNYSK'\n",
            " 'SNAMGTKNIGKGLTFEDILLVPNYSEVLPREVSLETKLTKNVSLKIPLISSAMDTVTEHLMAVGMARLGGIGIIHKNMDMESQVNEVLKVKNSGGLRVGAAIGVNEIERAKLLVEAGVDVIVLDSAHGHSLNIIRTLKEIKSKMNIDVIVGNVVTEEATKELIENGADGIKVGIGPGSICTTRIVAGVGVPQITAIEKCSSVASKFGIPIIADGGIRYSGDIGKALAVGASSVMIGSILAGTEESPGEKELIGDTVYKYYRGMGSVGAMKSGSGDRYFQEKRPENKMVPEGIEGRVKYKGEMEGVVYQLVGGLRSCMGYLGSASIEELWKKSSYVEITTSGLRESHVHDVEIVKEVMNYSK'\n",
            " 'SNAMGTKNIGKGLTFEDILLVPNYSEVLPREVSLETKLTKNVSLKIPLISSAMDTVTEHLMAVGMARLGGIGIIHKNMDMESQVNEVLKVKNSGGLRVGAAIGVNEIERAKLLVEAGVDVIVLDSAHGHSLNIIRTLKEIKSKMNIDVIVGNVVTEEATKELIENGADGIKVGIGPGSICTTRIVAGVGVPQITAIEKCSSVASKFGIPIIADGGIRYSGDIGKALAVGASSVMIGSILAGTEESPGEKELIGDTVYKYYRGMGSVGAMKSGSGDRYFQEKRPENKMVPEGIEGRVKYKGEMEGVVYQLVGGLRSCMGYLGSASIEELWKKSSYVEITTSGLRESHVHDVEIVKEVMNYSK'\n",
            " 'SNAMGTKNIGKGLTFEDILLVPNYSEVLPREVSLETKLTKNVSLKIPLISSAMDTVTEHLMAVGMARLGGIGIIHKNMDMESQVNEVLKVKNSGGLRVGAAIGVNEIERAKLLVEAGVDVIVLDSAHGHSLNIIRTLKEIKSKMNIDVIVGNVVTEEATKELIENGADGIKVGIGPGSICTTRIVAGVGVPQITAIEKCSSVASKFGIPIIADGGIRYSGDIGKALAVGASSVMIGSILAGTEESPGEKELIGDTVYKYYRGMGSVGAMKSGSGDRYFQEKRPENKMVPEGIEGRVKYKGEMEGVVYQLVGGLRSCMGYLGSASIEELWKKSSYVEITTSGLRESHVHDVEIVKEVMNYSK'\n",
            " 'SNAMGTKNIGKGLTFEDILLVPNYSEVLPREVSLETKLTKNVSLKIPLISSAMDTVTEHLMAVGMARLGGIGIIHKNMDMESQVNEVLKVKNSGGLRVGAAIGVNEIERAKLLVEAGVDVIVLDSAHGHSLNIIRTLKEIKSKMNIDVIVGNVVTEEATKELIENGADGIKVGIGPGSICTTRIVAGVGVPQITAIEKCSSVASKFGIPIIADGGIRYSGDIGKALAVGASSVMIGSILAGTEESPGEKELIGDTVYKYYRGMGSVGAMKSGSGDRYFQEKRPENKMVPEGIEGRVKYKGEMEGVVYQLVGGLRSCMGYLGSASIEELWKKSSYVEITTSGLRESHVHDVEIVKEVMNYSK'\n",
            " 'SNAMGTKNIGKGLTFEDILLVPNYSEVLPREVSLETKLTKNVSLKIPLISSAMDTVTEHLMAVGMARLGGIGIIHKNMDMESQVNEVLKVKNSGGLRVGAAIGVNEIERAKLLVEAGVDVIVLDSAHGHSLNIIRTLKEIKSKMNIDVIVGNVVTEEATKELIENGADGIKVGIGPGSICTTRIVAGVGVPQITAIEKCSSVASKFGIPIIADGGIRYSGDIGKALAVGASSVMIGSILAGTEESPGEKELIGDTVYKYYRGMGSVGAMKSGSGDRYFQEKRPENKMVPEGIEGRVKYKGEMEGVVYQLVGGLRSCMGYLGSASIEELWKKSSYVEITTSGLRESHVHDVEIVKEVMNYSK'\n",
            " 'SNAMGTKNIGKGLTFEDILLVPNYSEVLPREVSLETKLTKNVSLKIPLISSAMDTVTEHLMAVGMARLGGIGIIHKNMDMESQVNEVLKVKNSGGLRVGAAIGVNEIERAKLLVEAGVDVIVLDSAHGHSLNIIRTLKEIKSKMNIDVIVGNVVTEEATKELIENGADGIKVGIGPGSICTTRIVAGVGVPQITAIEKCSSVASKFGIPIIADGGIRYSGDIGKALAVGASSVMIGSILAGTEESPGEKELIGDTVYKYYRGMGSVGAMKSGSGDRYFQEKRPENKMVPEGIEGRVKYKGEMEGVVYQLVGGLRSCMGYLGSASIEELWKKSSYVEITTSGLRESHVHDVEIVKEVMNYSK'\n",
            " 'SNAMGTKNIGKGLTFEDILLVPNYSEVLPREVSLETKLTKNVSLKIPLISSAMDTVTEHLMAVGMARLGGIGIIHKNMDMESQVNEVLKVKNSGGLRVGAAIGVNEIERAKLLVEAGVDVIVLDSAHGHSLNIIRTLKEIKSKMNIDVIVGNVVTEEATKELIENGADGIKVGIGPGSICTTRIVAGVGVPQITAIEKCSSVASKFGIPIIADGGIRYSGDIGKALAVGASSVMIGSILAGTEESPGEKELIGDTVYKYYRGMGSVGAMKSGSGDRYFQEKRPENKMVPEGIEGRVKYKGEMEGVVYQLVGGLRSCMGYLGSASIEELWKKSSYVEITTSGLRESHVHDVEIVKEVMNYSK'\n",
            " 'SNAMGTKNIGKGLTFEDILLVPNYSEVLPREVSLETKLTKNVSLKIPLISSAMDTVTEHLMAVGMARLGGIGIIHKNMDMESQVNEVLKVKNSGGLRVGAAIGVNEIERAKLLVEAGVDVIVLDSAHGHSLNIIRTLKEIKSKMNIDVIVGNVVTEEATKELIENGADGIKVGIGPGSICTTRIVAGVGVPQITAIEKCSSVASKFGIPIIADGGIRYSGDIGKALAVGASSVMIGSILAGTEESPGEKELIGDTVYKYYRGMGSVGAMKSGSGDRYFQEKRPENKMVPEGIEGRVKYKGEMEGVVYQLVGGLRSCMGYLGSASIEELWKKSSYVEITTSGLRESHVHDVEIVKEVMNYSK'\n",
            " 'SNAMGTKNIGKGLTFEDILLVPNYSEVLPREVSLETKLTKNVSLKIPLISSAMDTVTEHLMAVGMARLGGIGIIHKNMDMESQVNEVLKVKNSGGLRVGAAIGVNEIERAKLLVEAGVDVIVLDSAHGHSLNIIRTLKEIKSKMNIDVIVGNVVTEEATKELIENGADGIKVGIGPGSICTTRIVAGVGVPQITAIEKCSSVASKFGIPIIADGGIRYSGDIGKALAVGASSVMIGSILAGTEESPGEKELIGDTVYKYYRGMGSVGAMKSGSGDRYFQEKRPENKMVPEGIEGRVKYKGEMEGVVYQLVGGLRSCMGYLGSASIEELWKKSSYVEITTSGLRESHVHDVEIVKEVMNYSK'\n",
            " 'SNAMGTKNIGKGLTFEDILLVPNYSEVLPREVSLETKLTKNVSLKIPLISSAMDTVTEHLMAVGMARLGGIGIIHKNMDMESQVNEVLKVKNSGGLRVGAAIGVNEIERAKLLVEAGVDVIVLDSAHGHSLNIIRTLKEIKSKMNIDVIVGNVVTEEATKELIENGADGIKVGIGPGSICTTRIVAGVGVPQITAIEKCSSVASKFGIPIIADGGIRYSGDIGKALAVGASSVMIGSILAGTEESPGEKELIGDTVYKYYRGMGSVGAMKSGSGDRYFQEKRPENKMVPEGIEGRVKYKGEMEGVVYQLVGGLRSCMGYLGSASIEELWKKSSYVEITTSGLRESHVHDVEIVKEVMNYSK'\n",
            " 'SNAMGTKNIGKGLTFEDILLVPNYSEVLPREVSLETKLTKNVSLKIPLISSAMDTVTEHLMAVGMARLGGIGIIHKNMDMESQVNEVLKVKNSGGLRVGAAIGVNEIERAKLLVEAGVDVIVLDSAHGHSLNIIRTLKEIKSKMNIDVIVGNVVTEEATKELIENGADGIKVGIGPGSICTTRIVAGVGVPQITAIEKCSSVASKFGIPIIADGGIRYSGDIGKALAVGASSVMIGSILAGTEESPGEKELIGDTVYKYYRGMGSVGAMKSGSGDRYFQEKRPENKMVPEGIEGRVKYKGEMEGVVYQLVGGLRSCMGYLGSASIEELWKKSSYVEITTSGLRESHVHDVEIVKEVMNYSK'\n",
            " 'SNAMGTKNIGKGLTFEDILLVPNYSEVLPREVSLETKLTKNVSLKIPLISSAMDTVTEHLMAVGMARLGGIGIIHKNMDMESQVNEVLKVKNSGGLRVGAAIGVNEIERAKLLVEAGVDVIVLDSAHGHSLNIIRTLKEIKSKMNIDVIVGNVVTEEATKELIENGADGIKVGIGPGSICTTRIVAGVGVPQITAIEKCSSVASKFGIPIIADGGIRYSGDIGKALAVGASSVMIGSILAGTEESPGEKELIGDTVYKYYRGMGSVGAMKSGSGDRYFQEKRPENKMVPEGIEGRVKYKGEMEGVVYQLVGGLRSCMGYLGSASIEELWKKSSYVEITTSGLRESHVHDVEIVKEVMNYSK'\n",
            " 'SNAMGTKNIGKGLTFEDILLVPNYSEVLPREVSLETKLTKNVSLKIPLISSAMDTVTEHLMAVGMARLGGIGIIHKNMDMESQVNEVLKVKNSGGLRVGAAIGVNEIERAKLLVEAGVDVIVLDSAHGHSLNIIRTLKEIKSKMNIDVIVGNVVTEEATKELIENGADGIKVGIGPGSICTTRIVAGVGVPQITAIEKCSSVASKFGIPIIADGGIRYSGDIGKALAVGASSVMIGSILAGTEESPGEKELIGDTVYKYYRGMGSVGAMKSGSGDRYFQEKRPENKMVPEGIEGRVKYKGEMEGVVYQLVGGLRSCMGYLGSASIEELWKKSSYVEITTSGLRESHVHDVEIVKEVMNYSK'\n",
            " 'SNAMGTKNIGKGLTFEDILLVPNYSEVLPREVSLETKLTKNVSLKIPLISSAMDTVTEHLMAVGMARLGGIGIIHKNMDMESQVNEVLKVKNSGGLRVGAAIGVNEIERAKLLVEAGVDVIVLDSAHGHSLNIIRTLKEIKSKMNIDVIVGNVVTEEATKELIENGADGIKVGIGPGSICTTRIVAGVGVPQITAIEKCSSVASKFGIPIIADGGIRYSGDIGKALAVGASSVMIGSILAGTEESPGEKELIGDTVYKYYRGMGSVGAMKSGSGDRYFQEKRPENKMVPEGIEGRVKYKGEMEGVVYQLVGGLRSCMGYLGSASIEELWKKSSYVEITTSGLRESHVHDVEIVKEVMNYSK'\n",
            " 'SNAMGTKNIGKGLTFEDILLVPNYSEVLPREVSLETKLTKNVSLKIPLISSAMDTVTEHLMAVGMARLGGIGIIHKNMDMESQVNEVLKVKNSGGLRVGAAIGVNEIERAKLLVEAGVDVIVLDSAHGHSLNIIRTLKEIKSKMNIDVIVGNVVTEEATKELIENGADGIKVGIGPGSICTTRIVAGVGVPQITAIEKCSSVASKFGIPIIADGGIRYSGDIGKALAVGASSVMIGSILAGTEESPGEKELIGDTVYKYYRGMGSVGAMKSGSGDRYFQEKRPENKMVPEGIEGRVKYKGEMEGVVYQLVGGLRSCMGYLGSASIEELWKKSSYVEITTSGLRESHVHDVEIVKEVMNYSK'\n",
            " 'SNAMGTKNIGKGLTFEDILLVPNYSEVLPREVSLETKLTKNVSLKIPLISSAMDTVTEHLMAVGMARLGGIGIIHKNMDMESQVNEVLKVKNSGGLRVGAAIGVNEIERAKLLVEAGVDVIVLDSAHGHSLNIIRTLKEIKSKMNIDVIVGNVVTEEATKELIENGADGIKVGIGPGSICTTRIVAGVGVPQITAIEKCSSVASKFGIPIIADGGIRYSGDIGKALAVGASSVMIGSILAGTEESPGEKELIGDTVYKYYRGMGSVGAMKSGSGDRYFQEKRPENKMVPEGIEGRVKYKGEMEGVVYQLVGGLRSCMGYLGSASIEELWKKSSYVEITTSGLRESHVHDVEIVKEVMNYSK'\n",
            " 'SNAMGTKNIGKGLTFEDILLVPNYSEVLPREVSLETKLTKNVSLKIPLISSAMDTVTEHLMAVGMARLGGIGIIHKNMDMESQVNEVLKVKNSGGLRVGAAIGVNEIERAKLLVEAGVDVIVLDSAHGHSLNIIRTLKEIKSKMNIDVIVGNVVTEEATKELIENGADGIKVGIGPGSICTTRIVAGVGVPQITAIEKCSSVASKFGIPIIADGGIRYSGDIGKALAVGASSVMIGSILAGTEESPGEKELIGDTVYKYYRGMGSVGAMKSGSGDRYFQEKRPENKMVPEGIEGRVKYKGEMEGVVYQLVGGLRSCMGYLGSASIEELWKKSSYVEITTSGLRESHVHDVEIVKEVMNYSK'\n",
            " 'SNAMGTKNIGKGLTFEDILLVPNYSEVLPREVSLETKLTKNVSLKIPLISSAMDTVTEHLMAVGMARLGGIGIIHKNMDMESQVNEVLKVKNSGGLRVGAAIGVNEIERAKLLVEAGVDVIVLDSAHGHSLNIIRTLKEIKSKMNIDVIVGNVVTEEATKELIENGADGIKVGIGPGSICTTRIVAGVGVPQITAIEKCSSVASKFGIPIIADGGIRYSGDIGKALAVGASSVMIGSILAGTEESPGEKELIGDTVYKYYRGMGSVGAMKSGSGDRYFQEKRPENKMVPEGIEGRVKYKGEMEGVVYQLVGGLRSCMGYLGSASIEELWKKSSYVEITTSGLRESHVHDVEIVKEVMNYSK'\n",
            " 'SNAMGTKNIGKGLTFEDILLVPNYSEVLPREVSLETKLTKNVSLKIPLISSAMDTVTEHLMAVGMARLGGIGIIHKNMDMESQVNEVLKVKNSGGLRVGAAIGVNEIERAKLLVEAGVDVIVLDSAHGHSLNIIRTLKEIKSKMNIDVIVGNVVTEEATKELIENGADGIKVGIGPGSICTTRIVAGVGVPQITAIEKCSSVASKFGIPIIADGGIRYSGDIGKALAVGASSVMIGSILAGTEESPGEKELIGDTVYKYYRGMGSVGAMKSGSGDRYFQEKRPENKMVPEGIEGRVKYKGEMEGVVYQLVGGLRSCMGYLGSASIEELWKKSSYVEITTSGLRESHVHDVEIVKEVMNYSK'\n",
            " 'SNAMGTKNIGKGLTFEDILLVPNYSEVLPREVSLETKLTKNVSLKIPLISSAMDTVTEHLMAVGMARLGGIGIIHKNMDMESQVNEVLKVKNSGGLRVGAAIGVNEIERAKLLVEAGVDVIVLDSAHGHSLNIIRTLKEIKSKMNIDVIVGNVVTEEATKELIENGADGIKVGIGPGSICTTRIVAGVGVPQITAIEKCSSVASKFGIPIIADGGIRYSGDIGKALAVGASSVMIGSILAGTEESPGEKELIGDTVYKYYRGMGSVGAMKSGSGDRYFQEKRPENKMVPEGIEGRVKYKGEMEGVVYQLVGGLRSCMGYLGSASIEELWKKSSYVEITTSGLRESHVHDVEIVKEVMNYSK'\n",
            " 'SNAMGTKNIGKGLTFEDILLVPNYSEVLPREVSLETKLTKNVSLKIPLISSAMDTVTEHLMAVGMARLGGIGIIHKNMDMESQVNEVLKVKNSGGLRVGAAIGVNEIERAKLLVEAGVDVIVLDSAHGHSLNIIRTLKEIKSKMNIDVIVGNVVTEEATKELIENGADGIKVGIGPGSICTTRIVAGVGVPQITAIEKCSSVASKFGIPIIADGGIRYSGDIGKALAVGASSVMIGSILAGTEESPGEKELIGDTVYKYYRGMGSVGAMKSGSGDRYFQEKRPENKMVPEGIEGRVKYKGEMEGVVYQLVGGLRSCMGYLGSASIEELWKKSSYVEITTSGLRESHVHDVEIVKEVMNYSK'\n",
            " 'SNAMGTKNIGKGLTFEDILLVPNYSEVLPREVSLETKLTKNVSLKIPLISSAMDTVTEHLMAVGMARLGGIGIIHKNMDMESQVNEVLKVKNSGGLRVGAAIGVNEIERAKLLVEAGVDVIVLDSAHGHSLNIIRTLKEIKSKMNIDVIVGNVVTEEATKELIENGADGIKVGIGPGSICTTRIVAGVGVPQITAIEKCSSVASKFGIPIIADGGIRYSGDIGKALAVGASSVMIGSILAGTEESPGEKELIGDTVYKYYRGMGSVGAMKSGSGDRYFQEKRPENKMVPEGIEGRVKYKGEMEGVVYQLVGGLRSCMGYLGSASIEELWKKSSYVEITTSGLRESHVHDVEIVKEVMNYSK'\n",
            " 'SNAMGTKNIGKGLTFEDILLVPNYSEVLPREVSLETKLTKNVSLKIPLISSAMDTVTEHLMAVGMARLGGIGIIHKNMDMESQVNEVLKVKNSGGLRVGAAIGVNEIERAKLLVEAGVDVIVLDSAHGHSLNIIRTLKEIKSKMNIDVIVGNVVTEEATKELIENGADGIKVGIGPGSICTTRIVAGVGVPQITAIEKCSSVASKFGIPIIADGGIRYSGDIGKALAVGASSVMIGSILAGTEESPGEKELIGDTVYKYYRGMGSVGAMKSGSGDRYFQEKRPENKMVPEGIEGRVKYKGEMEGVVYQLVGGLRSCMGYLGSASIEELWKKSSYVEITTSGLRESHVHDVEIVKEVMNYSK'\n",
            " 'SNAMGTKNIGKGLTFEDILLVPNYSEVLPREVSLETKLTKNVSLKIPLISSAMDTVTEHLMAVGMARLGGIGIIHKNMDMESQVNEVLKVKNSGGLRVGAAIGVNEIERAKLLVEAGVDVIVLDSAHGHSLNIIRTLKEIKSKMNIDVIVGNVVTEEATKELIENGADGIKVGIGPGSICTTRIVAGVGVPQITAIEKCSSVASKFGIPIIADGGIRYSGDIGKALAVGASSVMIGSILAGTEESPGEKELIGDTVYKYYRGMGSVGAMKSGSGDRYFQEKRPENKMVPEGIEGRVKYKGEMEGVVYQLVGGLRSCMGYLGSASIEELWKKSSYVEITTSGLRESHVHDVEIVKEVMNYSK'\n",
            " 'SNAMGTKNIGKGLTFEDILLVPNYSEVLPREVSLETKLTKNVSLKIPLISSAMDTVTEHLMAVGMARLGGIGIIHKNMDMESQVNEVLKVKNSGGLRVGAAIGVNEIERAKLLVEAGVDVIVLDSAHGHSLNIIRTLKEIKSKMNIDVIVGNVVTEEATKELIENGADGIKVGIGPGSICTTRIVAGVGVPQITAIEKCSSVASKFGIPIIADGGIRYSGDIGKALAVGASSVMIGSILAGTEESPGEKELIGDTVYKYYRGMGSVGAMKSGSGDRYFQEKRPENKMVPEGIEGRVKYKGEMEGVVYQLVGGLRSCMGYLGSASIEELWKKSSYVEITTSGLRESHVHDVEIVKEVMNYSK'\n",
            " 'SNAMGTKNIGKGLTFEDILLVPNYSEVLPREVSLETKLTKNVSLKIPLISSAMDTVTEHLMAVGMARLGGIGIIHKNMDMESQVNEVLKVKNSGGLRVGAAIGVNEIERAKLLVEAGVDVIVLDSAHGHSLNIIRTLKEIKSKMNIDVIVGNVVTEEATKELIENGADGIKVGIGPGSICTTRIVAGVGVPQITAIEKCSSVASKFGIPIIADGGIRYSGDIGKALAVGASSVMIGSILAGTEESPGEKELIGDTVYKYYRGMGSVGAMKSGSGDRYFQEKRPENKMVPEGIEGRVKYKGEMEGVVYQLVGGLRSCMGYLGSASIEELWKKSSYVEITTSGLRESHVHDVEIVKEVMNYSK'\n",
            " 'SNAMGTKNIGKGLTFEDILLVPNYSEVLPREVSLETKLTKNVSLKIPLISSAMDTVTEHLMAVGMARLGGIGIIHKNMDMESQVNEVLKVKNSGGLRVGAAIGVNEIERAKLLVEAGVDVIVLDSAHGHSLNIIRTLKEIKSKMNIDVIVGNVVTEEATKELIENGADGIKVGIGPGSICTTRIVAGVGVPQITAIEKCSSVASKFGIPIIADGGIRYSGDIGKALAVGASSVMIGSILAGTEESPGEKELIGDTVYKYYRGMGSVGAMKSGSGDRYFQEKRPENKMVPEGIEGRVKYKGEMEGVVYQLVGGLRSCMGYLGSASIEELWKKSSYVEITTSGLRESHVHDVEIVKEVMNYSK'\n",
            " 'SNAMGTKNIGKGLTFEDILLVPNYSEVLPREVSLETKLTKNVSLKIPLISSAMDTVTEHLMAVGMARLGGIGIIHKNMDMESQVNEVLKVKNSGGLRVGAAIGVNEIERAKLLVEAGVDVIVLDSAHGHSLNIIRTLKEIKSKMNIDVIVGNVVTEEATKELIENGADGIKVGIGPGSICTTRIVAGVGVPQITAIEKCSSVASKFGIPIIADGGIRYSGDIGKALAVGASSVMIGSILAGTEESPGEKELIGDTVYKYYRGMGSVGAMKSGSGDRYFQEKRPENKMVPEGIEGRVKYKGEMEGVVYQLVGGLRSCMGYLGSASIEELWKKSSYVEITTSGLRESHVHDVEIVKEVMNYSK'\n",
            " 'SNAMGTKNIGKGLTFEDILLVPNYSEVLPREVSLETKLTKNVSLKIPLISSAMDTVTEHLMAVGMARLGGIGIIHKNMDMESQVNEVLKVKNSGGLRVGAAIGVNEIERAKLLVEAGVDVIVLDSAHGHSLNIIRTLKEIKSKMNIDVIVGNVVTEEATKELIENGADGIKVGIGPGSICTTRIVAGVGVPQITAIEKCSSVASKFGIPIIADGGIRYSGDIGKALAVGASSVMIGSILAGTEESPGEKELIGDTVYKYYRGMGSVGAMKSGSGDRYFQEKRPENKMVPEGIEGRVKYKGEMEGVVYQLVGGLRSCMGYLGSASIEELWKKSSYVEITTSGLRESHVHDVEIVKEVMNYSK'\n",
            " 'SNAMGTKNIGKGLTFEDILLVPNYSEVLPREVSLETKLTKNVSLKIPLISSAMDTVTEHLMAVGMARLGGIGIIHKNMDMESQVNEVLKVKNSGGLRVGAAIGVNEIERAKLLVEAGVDVIVLDSAHGHSLNIIRTLKEIKSKMNIDVIVGNVVTEEATKELIENGADGIKVGIGPGSICTTRIVAGVGVPQITAIEKCSSVASKFGIPIIADGGIRYSGDIGKALAVGASSVMIGSILAGTEESPGEKELIGDTVYKYYRGMGSVGAMKSGSGDRYFQEKRPENKMVPEGIEGRVKYKGEMEGVVYQLVGGLRSCMGYLGSASIEELWKKSSYVEITTSGLRESHVHDVEIVKEVMNYSK'\n",
            " 'SNAMGTKNIGKGLTFEDILLVPNYSEVLPREVSLETKLTKNVSLKIPLISSAMDTVTEHLMAVGMARLGGIGIIHKNMDMESQVNEVLKVKNSGGLRVGAAIGVNEIERAKLLVEAGVDVIVLDSAHGHSLNIIRTLKEIKSKMNIDVIVGNVVTEEATKELIENGADGIKVGIGPGSICTTRIVAGVGVPQITAIEKCSSVASKFGIPIIADGGIRYSGDIGKALAVGASSVMIGSILAGTEESPGEKELIGDTVYKYYRGMGSVGAMKSGSGDRYFQEKRPENKMVPEGIEGRVKYKGEMEGVVYQLVGGLRSCMGYLGSASIEELWKKSSYVEITTSGLRESHVHDVEIVKEVMNYSK'\n",
            " 'SNAMGTKNIGKGLTFEDILLVPNYSEVLPREVSLETKLTKNVSLKIPLISSAMDTVTEHLMAVGMARLGGIGIIHKNMDMESQVNEVLKVKNSGGLRVGAAIGVNEIERAKLLVEAGVDVIVLDSAHGHSLNIIRTLKEIKSKMNIDVIVGNVVTEEATKELIENGADGIKVGIGPGSICTTRIVAGVGVPQITAIEKCSSVASKFGIPIIADGGIRYSGDIGKALAVGASSVMIGSILAGTEESPGEKELIGDTVYKYYRGMGSVGAMKSGSGDRYFQEKRPENKMVPEGIEGRVKYKGEMEGVVYQLVGGLRSCMGYLGSASIEELWKKSSYVEITTSGLRESHVHDVEIVKEVMNYSK'\n",
            " 'SNAMGTKNIGKGLTFEDILLVPNYSEVLPREVSLETKLTKNVSLKIPLISSAMDTVTEHLMAVGMARLGGIGIIHKNMDMESQVNEVLKVKNSGGLRVGAAIGVNEIERAKLLVEAGVDVIVLDSAHGHSLNIIRTLKEIKSKMNIDVIVGNVVTEEATKELIENGADGIKVGIGPGSICTTRIVAGVGVPQITAIEKCSSVASKFGIPIIADGGIRYSGDIGKALAVGASSVMIGSILAGTEESPGEKELIGDTVYKYYRGMGSVGAMKSGSGDRYFQEKRPENKMVPEGIEGRVKYKGEMEGVVYQLVGGLRSCMGYLGSASIEELWKKSSYVEITTSGLRESHVHDVEIVKEVMNYSK'\n",
            " 'SNAMGTKNIGKGLTFEDILLVPNYSEVLPREVSLETKLTKNVSLKIPLISSAMDTVTEHLMAVGMARLGGIGIIHKNMDMESQVNEVLKVKNSGGLRVGAAIGVNEIERAKLLVEAGVDVIVLDSAHGHSLNIIRTLKEIKSKMNIDVIVGNVVTEEATKELIENGADGIKVGIGPGSICTTRIVAGVGVPQITAIEKCSSVASKFGIPIIADGGIRYSGDIGKALAVGASSVMIGSILAGTEESPGEKELIGDTVYKYYRGMGSVGAMKSGSGDRYFQEKRPENKMVPEGIEGRVKYKGEMEGVVYQLVGGLRSCMGYLGSASIEELWKKSSYVEITTSGLRESHVHDVEIVKEVMNYSK'\n",
            " 'SNAMGTKNIGKGLTFEDILLVPNYSEVLPREVSLETKLTKNVSLKIPLISSAMDTVTEHLMAVGMARLGGIGIIHKNMDMESQVNEVLKVKNSGGLRVGAAIGVNEIERAKLLVEAGVDVIVLDSAHGHSLNIIRTLKEIKSKMNIDVIVGNVVTEEATKELIENGADGIKVGIGPGSICTTRIVAGVGVPQITAIEKCSSVASKFGIPIIADGGIRYSGDIGKALAVGASSVMIGSILAGTEESPGEKELIGDTVYKYYRGMGSVGAMKSGSGDRYFQEKRPENKMVPEGIEGRVKYKGEMEGVVYQLVGGLRSCMGYLGSASIEELWKKSSYVEITTSGLRESHVHDVEIVKEVMNYSK'\n",
            " 'SNAMGTKNIGKGLTFEDILLVPNYSEVLPREVSLETKLTKNVSLKIPLISSAMDTVTEHLMAVGMARLGGIGIIHKNMDMESQVNEVLKVKNSGGLRVGAAIGVNEIERAKLLVEAGVDVIVLDSAHGHSLNIIRTLKEIKSKMNIDVIVGNVVTEEATKELIENGADGIKVGIGPGSICTTRIVAGVGVPQITAIEKCSSVASKFGIPIIADGGIRYSGDIGKALAVGASSVMIGSILAGTEESPGEKELIGDTVYKYYRGMGSVGAMKSGSGDRYFQEKRPENKMVPEGIEGRVKYKGEMEGVVYQLVGGLRSCMGYLGSASIEELWKKSSYVEITTSGLRESHVHDVEIVKEVMNYSK'\n",
            " 'SNAMGTKNIGKGLTFEDILLVPNYSEVLPREVSLETKLTKNVSLKIPLISSAMDTVTEHLMAVGMARLGGIGIIHKNMDMESQVNEVLKVKNSGGLRVGAAIGVNEIERAKLLVEAGVDVIVLDSAHGHSLNIIRTLKEIKSKMNIDVIVGNVVTEEATKELIENGADGIKVGIGPGSICTTRIVAGVGVPQITAIEKCSSVASKFGIPIIADGGIRYSGDIGKALAVGASSVMIGSILAGTEESPGEKELIGDTVYKYYRGMGSVGAMKSGSGDRYFQEKRPENKMVPEGIEGRVKYKGEMEGVVYQLVGGLRSCMGYLGSASIEELWKKSSYVEITTSGLRESHVHDVEIVKEVMNYSK']\n",
            "drug: ['COc1cc(C2OC(=O)C3C(c4ccc(O)c(OC)c4)OCC23)ccc1O'\n",
            " 'C=C1CCC(C(C)C)c2cc(C)ccc21' 'CC1=CC=C(C(C)C)CC1'\n",
            " 'COc1c(C)c(O)c2c(=O)cc(-c3cc(O)c(O)c(CC=C(C)C)c3)oc2c1C'\n",
            " 'C=C/C=C(\\\\C)C(C=O)=C(C)C' 'c1ccc2ncncc2c1' 'CC1CC(O)C2C(C(=O)O)=COCC12O'\n",
            " 'C=C/C(C)=C/C(=O)CC(C)C' 'CCOP(C)(=O)CCC=O'\n",
            " 'Cn1c2c(c(=O)c3ccccc31)CC(O)C(C)(C)O2'\n",
            " 'COc1cc2c(c3oc(=O)c4c(c13)CCC4=O)C1(O)C=COC1O2'\n",
            " 'O=C1C[C@]23OC(=O)C[C@@]2(C[C@@]2(O)COc4cc(O)ccc4[C@H]23)O1'\n",
            " 'CC1=CCC(C2(C)CCC(C(C)(C)O)O2)CC1' 'CCCSSCCC' 'CCCCCC(C)CCCC'\n",
            " 'OCCOCCOCCOCCOCCOCCOCCO' 'CSCCCN=C=S' 'CC(C)C1CCC(C=O)=CC1=O'\n",
            " 'OC1CC=CCC1' 'CC1(O)C=CC(C=O)O1'\n",
            " 'COc1ccc(C2CC(=O)c3c(O)c(C)c(O)c(C)c3O2)cc1'\n",
            " 'COC(=O)C1=COC(C)C(CO)C1Cc1nccc2c3ccccc3n(C)c12' 'Cc1ccc(C)c(C=O)c1C'\n",
            " 'CC(=O)C=C=C1C(C)(C)CC(O)CC1(C)O'\n",
            " 'COc1cc(C(=O)C(CO)c2ccc(O)c(OC)c2)ccc1O'\n",
            " 'COc1cc(O)c2c(=O)c3cccc(O)c3oc2c1' 'O=C1CCCCCN1' 'OCC(O)c1ccc(O)c(O)c1'\n",
            " 'CCOC(=O)C=C(C)N' 'CC(C)c1ccccc1COC(=O)c1ccccc1O'\n",
            " 'CC1CCC2(OC1)OC1CC3C4C(O)C=C5CC(O)CCC5(C)C4CCC3(C)C1C2C'\n",
            " 'CC(C)C1CCC2(C)C1C1OC2(O)CCC1C' 'C=CCc1ccc(OC(C)=O)c(OC)c1'\n",
            " 'CC(C)C1CCC(C)C12CC(=O)C1(C)OC1C2'\n",
            " 'COc1cc(O)c2c(=O)cc(-c3cc(OC)c(O)c(OC)c3)oc2c1'\n",
            " 'CCC1C2CC3C4N(C)c5ccccc5C45CC(C2C5=O)N3C1O' 'CCCCCC(=O)OC'\n",
            " 'CC1CC2CC(=O)C(O)=C3CCN4CCCC2(O)C34C1' 'C=CCCOC(C)=O' 'C=CCC(=O)/C=C/C'\n",
            " 'COc1ccc(-c2cc(=O)c3c(O)c(OC)c(O)c(O)c3o2)cc1'\n",
            " 'CC(=O)/C=C/C1(O)C(C)=CC(=O)CC1(C)C' 'CCCCCCC1C(=O)CCC1C(=O)OC'\n",
            " 'CC1(C)C=CC(=O)O1'\n",
            " 'CC(=O)OC1C(OC(=O)CC(C)C)C2C(CC=C3CC(O)CCC32C)C2(O)CCC(C(C)=O)C12C'\n",
            " 'C=C1CC(C)(O)CC2=C1C(C)(C)CCC2' 'COc1ccc2c(c1)OC1c3ccc(O)cc3OCC21'\n",
            " 'COc1cc(O)cc2occc(=O)c12' 'C=C(C)C(CO)C/C=C(/C)CCC=C(C)C'\n",
            " 'C=Cc1cc2c(cc1OC)OC(C)(C)C=C2'\n",
            " 'COc1c(O)cc2c(=O)oc3c(OC)c(O)cc4c(=O)oc1c2c34'\n",
            " 'Cc1c2c(c(C)c3c1CCCC3)CCCC2' 'CCC1(O)CCC2(C)C(CCC3C4CCC(=O)C4(C)CCC32)C1'\n",
            " 'C=C(C)C1C=CC(C)=CC1' 'COC(=O)CCCCCCCC(=O)OC' 'O=C(O)/C=C\\\\c1ccccc1'\n",
            " 'C/C=C1/CN2C3CC45c6ccccc6NC4(O3)C2CC1C5C(=O)OC'\n",
            " 'CCC/C=C1\\\\OC(=O)c2ccccc21' 'O=C([O-])C(=O)[O-]'\n",
            " 'C=C(CC/C=C(\\\\C)CO)C1CC=C(C)CC1' 'O=c1cc(-c2ccccc2)oc2cc(O)cc(O)c12'\n",
            " 'CC#CC#CC#Cc1ccccc1' 'C=CCOC(=O)CCC' 'C/C1=C\\\\CC(C)(C)/C=C/CC2(C)OC2CC1'\n",
            " 'Oc1cccc2cccnc12' 'CC1CC(C2CCC3N2CCCCC32CC(C)C(=O)O2)OC1=O'\n",
            " 'COc1c(C(C)C)cc2c(c1O)C1(C)CCC(=O)C(C)(C)C1CC2=O' 'C[Si](C)(C)C1SCCCS1'\n",
            " 'COc1cc(C2c3cc4c(cc3C(=O)C(C)C2C)OCO4)ccc1O'\n",
            " 'Cc1cc(C(C)(C)CC(C)(C)C)ccc1O'\n",
            " 'COc1c2cc(c(O)c1OC)CCCCC(=O)CCc1ccc(O)c-2c1' 'CC1(C)OC(CO)C(c2ccccc2)O1'\n",
            " 'COc1ccc2oc3c(OC)c(OC)c(O)c(OC)c3c(=O)c2c1'\n",
            " 'CC(C)c1ccc2c(c1O)CCC1C(C)(C)C(=O)CCC21C'\n",
            " 'COc1cc(O)c2c(c1)C(=O)c1cc(CO)cc(O)c1C2=O'\n",
            " 'COc1ccc2c(c1)[nH]c1c(C)nccc12' 'C=C1C2CCC(C2)C1(C)CCC=C(C)C'\n",
            " 'CCCCCCCCCCCCC#CCC#CC(=O)OC' 'C=CCN=C=S'\n",
            " 'C/C=C/c1cc(OC)c2c(c1)C(C)C(c1ccc3c(c1)OCO3)O2'\n",
            " 'Cc1cc(O)c2c(c1)C(=O)c1c(O)ccc(O)c1C2=O' 'C=C1CC/C=C(/C)CCC2C1CC2(C)C'\n",
            " 'COc1cc(O)c2c(=O)c(OC)c(-c3ccc(O)c(OC)c3)oc2c1'\n",
            " 'OCC(O)C(/C=C/c1ccc(O)cc1)c1ccc(O)cc1'\n",
            " 'C[C@@H](O)[C@]12CN(C)[C@@H]3[C@H]4CO[C@@H](C[C@H]41)[C@]1(C(=O)Nc4ccccc41)[C@@H]32'\n",
            " 'NC(Cn1ccc(=O)c(O)c1)C(=O)O' 'C/C=C/C=C\\\\CC/C=C\\\\C=C\\\\C(=O)NCC(C)C'\n",
            " 'CCCCC(C)(CC)CC'\n",
            " 'CC(C)(O)C12OC1C1(O)C3CC4C5=C(CCC4(C)C1(O)C(=O)C2O3)C(=O)OC5' 'Oc1ccccc1'\n",
            " 'C=CC1CN2CCc3c([nH]c4ccccc34)C2CC1/C(=C\\\\OC)C(=O)OC'\n",
            " 'CC(=O)Oc1ccccc1C(=O)O' 'CC(=O)c1ccc(C(C)(C)O)cc1' 'O=Cc1ccc[nH]1'\n",
            " 'CC1=C(C=O)C(C)(C)CCC1' 'CC(=O)OCc1ccccc1'\n",
            " 'COc1cc(/C=C/C(=O)O)cc(OC)c1OC' 'C/C=C/c1ccc(OC)c(OC)c1' 'CCC(=O)CC'\n",
            " 'COc1ccc(C)cc1']\n"
          ],
          "name": "stdout"
        }
      ]
    },
    {
      "cell_type": "code",
      "metadata": {
        "colab": {
          "base_uri": "https://localhost:8080/"
        },
        "id": "Pjh0vylu7qsk",
        "outputId": "0f5f2162-00f2-4097-b295-f89bbdc52228"
      },
      "source": [
        "\n",
        "y_pred = models.virtual_screening(d, t, model)"
      ],
      "execution_count": 57,
      "outputs": [
        {
          "output_type": "stream",
          "text": [
            "virtual screening...\n",
            "Drug Target Interaction Prediction Mode...\n",
            "in total: 100 drug-target pairs\n",
            "encoding drug...\n",
            "unique drugs: 100\n",
            "encoding protein...\n",
            "unique target sequence: 1\n",
            "Done.\n",
            "predicting...\n",
            "---------------\n",
            "Virtual Screening Result\n",
            "+------+-----------+-------------+---------------+\n",
            "| Rank | Drug Name | Target Name | Binding Score |\n",
            "+------+-----------+-------------+---------------+\n",
            "|  1   |  Drug 75  |  Target 75  |      6.53     |\n",
            "|  2   |   Drug 5  |   Target 5  |      6.39     |\n",
            "|  3   |  Drug 21  |  Target 21  |      6.19     |\n",
            "|  4   |  Drug 85  |  Target 85  |      6.17     |\n",
            "|  5   |  Drug 93  |  Target 93  |      6.16     |\n",
            "|  6   |  Drug 64  |  Target 64  |      6.06     |\n",
            "|  7   |  Drug 90  |  Target 90  |      6.01     |\n",
            "|  8   |   Drug 9  |   Target 9  |      5.91     |\n",
            "|  9   |  Drug 56  |  Target 56  |      5.79     |\n",
            "|  10  |  Drug 35  |  Target 35  |      5.59     |\n",
            "checkout ./result/virtual_screening.txt for the whole list\n",
            "\n"
          ],
          "name": "stdout"
        }
      ]
    }
  ]
}